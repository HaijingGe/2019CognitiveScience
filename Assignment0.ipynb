{
 "cells": [
  {
   "cell_type": "markdown",
   "metadata": {
    "deletable": false,
    "editable": false,
    "nbgrader": {
     "checksum": "889662e8c16d7d0e1a251885a2054d6c",
     "grade": false,
     "grade_id": "cell-c9e0edd7de3b30be",
     "locked": true,
     "schema_version": 1,
     "solution": false
    }
   },
   "source": [
    "# Assignment 0\n",
    "\n",
    "This assignment is meant as practice for your subsequent assignments. It will be graded but will **not influence your overall mark**. While the assignment does not influence your mark, you should still take it seriously, as it will provide you feedback on your programming knowledge and the overall complexity of assignments.\n",
    "\n",
    "In this assignment we will use some of the concepts learned in Lab1. We will use Python to do text manipulation and analysis, using for loops, conditional statements and functions.\n",
    "\n",
    "\n",
    "## File System Organization & Paths\n",
    "Files in an operating system are organized in a tree-like pattern of directories (or folders), which may contain files and other directories. We can directly refer to files or folders in our current path by their name. \n",
    "\n",
    "If we want to access sub-folders we specify the hierarchy with a slash `/`. We can go up up the hierarchy using `..`. For example, if we want to access all data in a folder called *data* in our current directory the corresponding path is `data/`. If we want to access a specific file called 'dataset.csv' in this folder we would access it via the path `data/dataset.csv`. If the 'data' folder and dataset file would be stored above our current directory we access it with `../data/dataset.csv`.\n",
    "\n",
    "In Python we can use the [os](https://docs.python.org/3/library/os.html) library to perform operating system actions. We first import the `os` library to have access to all its functions."
   ]
  },
  {
   "cell_type": "code",
   "execution_count": 1,
   "metadata": {
    "deletable": false,
    "editable": false,
    "nbgrader": {
     "checksum": "4303f4d3517e25739dcbe229d022d721",
     "grade": false,
     "grade_id": "cell-480dc54e77af3250",
     "locked": true,
     "schema_version": 1,
     "solution": false
    }
   },
   "outputs": [],
   "source": [
    "import os"
   ]
  },
  {
   "cell_type": "markdown",
   "metadata": {
    "deletable": false,
    "editable": false,
    "nbgrader": {
     "checksum": "b7652b3d6da7419aff34c407dc51c76e",
     "grade": false,
     "grade_id": "cell-658ecd442b680d36",
     "locked": true,
     "schema_version": 1,
     "solution": false
    }
   },
   "source": [
    "<div class=\"alert alert-info\" role=\"alert\">\n",
    "<h1>Exercise 1 </h1>\n",
    "\n",
    "<p> Specify the path to the books folder below. The `books/` directory is in your current directory. We can specify it as a *string* -- a sequence of characters -- which are are enclosed by quotation marks in python, e.g., `the_name_of_my_cat = \"Meowulf\"`</p>\n",
    "</div>"
   ]
  },
  {
   "cell_type": "code",
   "execution_count": 2,
   "metadata": {
    "deletable": false,
    "nbgrader": {
     "checksum": "a48e1307b65b12353f4cb68369da63c8",
     "grade": false,
     "grade_id": "cell-2cca24359550fa82",
     "locked": false,
     "schema_version": 1,
     "solution": true
    }
   },
   "outputs": [],
   "source": [
    "path = \"books/\"\n",
    "# YOUR CODE HERE\n"
   ]
  },
  {
   "cell_type": "code",
   "execution_count": 3,
   "metadata": {
    "deletable": false,
    "editable": false,
    "nbgrader": {
     "checksum": "4b8c9498767d3644c12550f26dc16bcf",
     "grade": true,
     "grade_id": "cell-70903f287e06dc8c",
     "locked": true,
     "points": 1,
     "schema_version": 1,
     "solution": false
    }
   },
   "outputs": [],
   "source": [
    "from nose.tools import assert_equal, assert_raises, assert_not_equal\n",
    "# The line below tests to make sure the path isn't an empty string. This kind of test is \n",
    "# designed to help you check that your answer has the right basic form.\n",
    "assert_not_equal(path, \"\")\n"
   ]
  },
  {
   "cell_type": "markdown",
   "metadata": {
    "deletable": false,
    "editable": false,
    "nbgrader": {
     "checksum": "69458452a45b11687ad926ccb7f02f14",
     "grade": false,
     "grade_id": "cell-5d71819b1f14051b",
     "locked": true,
     "schema_version": 1,
     "solution": false
    }
   },
   "source": [
    "The 'books' folder contains several subfolders. Each subfolder corresponds to one author and contains some of their works as text files. \n",
    "\n",
    "<div class=\"alert alert-info\" role=\"alert\">\n",
    "<h1>Exercise 2</h1>\n",
    "<p>Write a line of code to calculate the number of author folders in the books folder. Store the number of author folders in the variable num_author_folders.</p>\n",
    "</div>\n",
    "\n",
    "### Hints\n",
    "\n",
    "- The `os` library contains many functions for reading and manipulating files and folders in your operating system. Have a look at `os.listdir()` for this exercise. You can pass a string to this function, e.g., `os.listdir(\"my_directory_name\")`.\n",
    "- If you call `os.listdir` on the path to the books folder, it will return a list of the subfolders in the 'books' folder. Determining the number of elements in this list gives you the number of authors. You'll need to find out how to compute the length of a list."
   ]
  },
  {
   "cell_type": "code",
   "execution_count": 4,
   "metadata": {
    "deletable": false,
    "nbgrader": {
     "checksum": "6bcbeda9e0136be8f0211b73c18ef9f0",
     "grade": false,
     "grade_id": "cell-4bf970e1c39d00fb",
     "locked": false,
     "schema_version": 1,
     "solution": true
    }
   },
   "outputs": [],
   "source": [
    "num_author_folders =  len(os.listdir(\"books\"))"
   ]
  },
  {
   "cell_type": "code",
   "execution_count": 5,
   "metadata": {
    "deletable": false,
    "editable": false,
    "nbgrader": {
     "checksum": "742b12d109b6be636a5e1f3d5f1b67ed",
     "grade": true,
     "grade_id": "cell-c826b29c07cf8e23",
     "locked": true,
     "points": 2,
     "schema_version": 1,
     "solution": false
    }
   },
   "outputs": [],
   "source": [
    "assert_equal(num_author_folders, 5)"
   ]
  },
  {
   "cell_type": "markdown",
   "metadata": {
    "deletable": false,
    "editable": false,
    "nbgrader": {
     "checksum": "d0d71b786df12b25fbceb1dabfab725b",
     "grade": false,
     "grade_id": "cell-a217299b676b4936",
     "locked": true,
     "schema_version": 1,
     "solution": false
    }
   },
   "source": [
    "Now we will access all works by the authors. To do so we will iterate through all author folders in the 'books' folder. Then we will list all files in each of those author subfolders.\n",
    "\n",
    "<div class=\"alert alert-info\" role=\"alert\">\n",
    "<h1>Exercise 3</h1>\n",
    "<p>Using Python, create a list containing a list for each author in the books folder. For each author, add the path for each book in the subfolder.</p><p>For example, if there are two authors, \"Alice\" and \"Bob\", and Alice wrote \"Aardvarks and Archetypes\" and Bob wrote \"Bothys I have known\" and \"Bob: A memoir\", then you would want to get `[['Aardvarks and Archetypes'],['Bothys I have known','Bob: A memoir']]`.</p>\n",
    "</div>\n",
    "\n",
    "### Hints\n",
    "\n",
    "- Use a `for` loop to iterate through all folders in the 'books' folder.\n",
    "- Then list all book folders in the authors' folder (using `os.listdir()` again).\n",
    "- Use `append` to add the list of paths to `all_books`.\n",
    "- To provide the full path consisting of 'bookpath/authorname/' you will have to concatenate strings. You can do so by adding the path variable with the author name `path+authorname`. Do not forget to add a dash to that string to specify that you want all files *in* that folder."
   ]
  },
  {
   "cell_type": "code",
   "execution_count": 6,
   "metadata": {
    "deletable": false,
    "nbgrader": {
     "checksum": "b0c79963ed242e537a57a7b1d443450d",
     "grade": false,
     "grade_id": "cell-8304ede06cb5a58a",
     "locked": false,
     "schema_version": 1,
     "solution": true
    }
   },
   "outputs": [],
   "source": [
    "all_books=[]\n",
    "for author in os.listdir(\"books\"):\n",
    "    b=\"books/\"+author\n",
    "    onesbooks=os.listdir(b)\n",
    "    all_books.append(onesbooks)\n",
    "    \n",
    "\n",
    "   "
   ]
  },
  {
   "cell_type": "code",
   "execution_count": 7,
   "metadata": {
    "deletable": false,
    "editable": false,
    "nbgrader": {
     "checksum": "3c5c898fcb79627afa32635cb8b34f7d",
     "grade": true,
     "grade_id": "cell-5da0d0148e1cd3c7",
     "locked": true,
     "points": 10,
     "schema_version": 1,
     "solution": false
    }
   },
   "outputs": [],
   "source": [
    "\n",
    "assert_equal(set([book for books in all_books for book in books]),\n",
    "             set(['The_Power_of_Movement_in_Plants.txt', 'On_the_Origin_of_Species.txt',\n",
    "              'Treasure_Island.txt',\n",
    "              'Adventures_of_Sherlock_Holmes.txt',   'Memoirs_of_Sherlock_Holmes.txt',   'The_Lost_World.txt',\n",
    "              'A_Treatise_of_Human_Nature.txt',   'An_Enquiry_Concerning_Human_Understanding.txt', \n",
    "              'Ivanhoe:_A_Romance.txt', 'The_Lady_of_the_Lake.txt']))"
   ]
  },
  {
   "cell_type": "markdown",
   "metadata": {
    "deletable": false,
    "editable": false,
    "nbgrader": {
     "checksum": "7d54658d895cf7f78b8ad093159e6911",
     "grade": false,
     "grade_id": "cell-cc6300b533302725",
     "locked": true,
     "schema_version": 1,
     "solution": false
    }
   },
   "source": [
    "We will now calculate how many books there are in total. We will loop through the `all_books` list that you just created. We will increment a counter (a variable that starts at zero, which we use to store the count so far) for the total number of books by adding the number of books in each of the entries of `all_books`.\n",
    "\n",
    "<div class=\"alert alert-info\" role=\"alert\">\n",
    "<h1>Exercise 4</h1>\n",
    "<p>Using Python, calculate the total number of books.</p>\n",
    "</div>\n",
    "\n",
    "### Hints\n",
    "\n",
    "- Use a `for` loop to iterate through `all_books` list that you just created.\n",
    "- Remember that each list contains another list that contains the book paths.\n",
    "- The length of this list corresponds to the number of books by each author.\n",
    "- Increment the counter `book_count` by the length of each book list."
   ]
  },
  {
   "cell_type": "code",
   "execution_count": 8,
   "metadata": {
    "deletable": false,
    "nbgrader": {
     "checksum": "e508c52e7435914244d8ec848f2cf0f2",
     "grade": false,
     "grade_id": "cell-ee04fddb559cd5a7",
     "locked": false,
     "schema_version": 1,
     "solution": true
    }
   },
   "outputs": [],
   "source": [
    "book_count = 0\n",
    "for book_list in os.listdir(\"books\"):\n",
    "      b=\"books/\"+book_list\n",
    "    \n",
    "      book_count += len(os.listdir(b))\n",
    "\n"
   ]
  },
  {
   "cell_type": "code",
   "execution_count": 9,
   "metadata": {
    "deletable": false,
    "editable": false,
    "nbgrader": {
     "checksum": "6f24303cb41abc213bc47ff27d2bc381",
     "grade": true,
     "grade_id": "cell-f07102023c088fba",
     "locked": true,
     "points": 8,
     "schema_version": 1,
     "solution": false
    }
   },
   "outputs": [],
   "source": [
    "assert_equal(book_count,10)"
   ]
  },
  {
   "cell_type": "markdown",
   "metadata": {
    "deletable": false,
    "editable": false,
    "nbgrader": {
     "checksum": "3b8742ba82671c01bfb532a9abb7410b",
     "grade": false,
     "grade_id": "cell-e24f5465a5cc2798",
     "locked": true,
     "schema_version": 1,
     "solution": false
    }
   },
   "source": [
    "<div class=\"alert alert-info\" role=\"alert\">\n",
    "<h1>Exercise 5</h1>\n",
    "<p>Which author has the most books in our books folder? How many books are there for that author?</p>\n",
    "</div>\n",
    "\n",
    "### Hints\n",
    "\n",
    "- As in Exercise 4 we need to loop through all options and iteratively update the authors' name with the most books (`author_most_books`), as well as the number that author has (`most_books`).\n",
    "- Since the `all_books` list does not contain the authors' name we need to list the author names again using `os.listdir()`.\n",
    "- For each author determine the number of books in the folder, as in Exercises 3 and 4. If that author has more books than the current largest number of books stored in `most_books`, update `most_books`, as well as the `author_most_books` variable."
   ]
  },
  {
   "cell_type": "code",
   "execution_count": 10,
   "metadata": {
    "deletable": false,
    "nbgrader": {
     "checksum": "9d6e354cc71874e5afc1a064097df294",
     "grade": false,
     "grade_id": "cell-27814d82bb53f8be",
     "locked": false,
     "schema_version": 1,
     "solution": true
    }
   },
   "outputs": [],
   "source": [
    "author_most_books = \"\"\n",
    "most_books = 0\n",
    "for author in os.listdir(path):\n",
    "        b=\"books/\"+author\n",
    "        number_of_books = len(os.listdir(b))\n",
    "    \n",
    "        if number_of_books > most_books:\n",
    "            author_most_books = author\n",
    "            most_books = number_of_books"
   ]
  },
  {
   "cell_type": "code",
   "execution_count": 11,
   "metadata": {
    "deletable": false,
    "editable": false,
    "nbgrader": {
     "checksum": "104ff0acf824478aeec02099b30d01da",
     "grade": true,
     "grade_id": "cell-d444aa5641061098",
     "locked": true,
     "points": 15,
     "schema_version": 1,
     "solution": false
    }
   },
   "outputs": [],
   "source": [
    "assert_equal(author_most_books, \"Conan_Doyle\")\n",
    "assert_equal(most_books, 3)"
   ]
  },
  {
   "cell_type": "markdown",
   "metadata": {
    "deletable": false,
    "editable": false,
    "nbgrader": {
     "checksum": "93de5c9decb5c863eb78dd6a5354d641",
     "grade": false,
     "grade_id": "cell-30dc17b5b2ae3937",
     "locked": true,
     "schema_version": 1,
     "solution": false
    }
   },
   "source": [
    "<div class=\"alert alert-info\" role=\"alert\">\n",
    "<h1>Exercise 6</h1>\n",
    "<p>You might have noticed that the formatting of the author is a bit odd. Let's replace the underscores in the authors' name with spaces.\n",
    "</p>\n",
    "</div>\n",
    "\n",
    "### Hints\n",
    "\n",
    "- Use 'str.replace()' to change the authors name"
   ]
  },
  {
   "cell_type": "code",
   "execution_count": 12,
   "metadata": {
    "deletable": false,
    "nbgrader": {
     "checksum": "e4e85be07aec96900f64be8b1f8afa26",
     "grade": false,
     "grade_id": "cell-6cda115e237eef96",
     "locked": false,
     "schema_version": 1,
     "solution": true
    }
   },
   "outputs": [],
   "source": [
    "author_most_books = author_most_books.replace('_',' ')"
   ]
  },
  {
   "cell_type": "code",
   "execution_count": 13,
   "metadata": {
    "deletable": false,
    "editable": false,
    "nbgrader": {
     "checksum": "35be5cc4202354a7a7442d71f324460f",
     "grade": true,
     "grade_id": "cell-d340e1ddf438bd98",
     "locked": true,
     "points": 1,
     "schema_version": 1,
     "solution": false
    }
   },
   "outputs": [],
   "source": [
    "assert_equal(author_most_books, \"Conan Doyle\")"
   ]
  },
  {
   "cell_type": "markdown",
   "metadata": {
    "deletable": false,
    "editable": false,
    "nbgrader": {
     "checksum": "668288da75fa77ce4c960312fd5b68b4",
     "grade": false,
     "grade_id": "cell-ccba5d15acee0abb",
     "locked": true,
     "schema_version": 1,
     "solution": false
    }
   },
   "source": [
    "Let's finally have a look at the content of the text files. We will start by looking at Charles Darwin's 'On the Origin of Species' book. In Python we can open files using `open`.  Opening files might sometimes produce errors, so it is good practice to take care of potential errors by wrapping the opening command in a `with` statement (For more details, see the [documentation](https://docs.python.org/3/reference/compound_stmts.html#the-with-statement))."
   ]
  },
  {
   "cell_type": "code",
   "execution_count": 14,
   "metadata": {
    "deletable": false,
    "editable": false,
    "nbgrader": {
     "checksum": "78f0891a53383c68ddf43525b3665e99",
     "grade": false,
     "grade_id": "cell-0b4a04f23af22b18",
     "locked": true,
     "schema_version": 1,
     "solution": false
    }
   },
   "outputs": [],
   "source": [
    "origin_of_species_path = \"./books/Charles_Darwin/On_the_Origin_of_Species.txt\""
   ]
  },
  {
   "cell_type": "code",
   "execution_count": 15,
   "metadata": {
    "deletable": false,
    "editable": false,
    "nbgrader": {
     "checksum": "ef1fa7cd6f53ed1a0abee1777185c7fa",
     "grade": false,
     "grade_id": "cell-94d60a565fed1431",
     "locked": true,
     "schema_version": 1,
     "solution": false
    }
   },
   "outputs": [],
   "source": [
    "with open(origin_of_species_path) as file:\n",
    "    origin_of_species = file.readlines()"
   ]
  },
  {
   "cell_type": "markdown",
   "metadata": {
    "deletable": false,
    "editable": false,
    "nbgrader": {
     "checksum": "81c71db725e4d78820d504211cbbc7e8",
     "grade": false,
     "grade_id": "cell-ac689d4dfb494f38",
     "locked": true,
     "schema_version": 1,
     "solution": false
    }
   },
   "source": [
    "The cell above reads in the file specified in the path `origin_of_species_path` into a variable called `origin_of_species`. Inspect this variable to see what it looks like. \n",
    "\n",
    "<div class=\"alert alert-info\" role=\"alert\">\n",
    "<h1>Exercise 7</h1>\n",
    "<p>Access the title of On the Origin of Species in the variable (lines 30 to 33).</p>\n",
    "</p>\n",
    "</div>\n",
    "\n",
    "## Hints\n",
    "\n",
    " - What is the type of the variable `origin_of_species`? Remember how we can access elements in this data type (see the content from lab 1)."
   ]
  },
  {
   "cell_type": "code",
   "execution_count": 16,
   "metadata": {
    "deletable": false,
    "nbgrader": {
     "checksum": "6ae66b65f9a3c4a6cdc2fd7c11a087ac",
     "grade": false,
     "grade_id": "cell-5d9541b0b9bd25f5",
     "locked": false,
     "schema_version": 1,
     "solution": true
    }
   },
   "outputs": [],
   "source": [
    "origin_of_species_title = (origin_of_species)[30:33]\n",
    "\n"
   ]
  },
  {
   "cell_type": "code",
   "execution_count": 17,
   "metadata": {
    "deletable": false,
    "editable": false,
    "nbgrader": {
     "checksum": "6f9b7991b58933da5110516b0cab4357",
     "grade": true,
     "grade_id": "cell-3eead2e4b04842c1",
     "locked": true,
     "points": 1,
     "schema_version": 1,
     "solution": false
    }
   },
   "outputs": [],
   "source": [
    "assert_equal(origin_of_species_title, ['ON THE ORIGIN OF SPECIES.\\n',  '\\n',  'OR THE PRESERVATION OF FAVOURED RACES IN THE STRUGGLE FOR LIFE.\\n'])"
   ]
  },
  {
   "cell_type": "markdown",
   "metadata": {
    "deletable": false,
    "editable": false,
    "nbgrader": {
     "checksum": "06d6de402b542f2ae3c932fef6d405eb",
     "grade": false,
     "grade_id": "cell-5a103364a3ddc9b8",
     "locked": true,
     "schema_version": 1,
     "solution": false
    }
   },
   "source": [
    "Looking at word occurrences and co-occurrences is a an important technique in texts analysis. We are often not really interested in differentiating words by their punctuation or whether they are capitalized. Therefore, it is important to format words consistently (for example by having all words in lowercase and by removing punctuation).\n",
    "\n",
    "We will start by creating a function to format each word in the texts. Python provides a string containing all punctuation characters. We can access it by importing the `string` type and creating a set of all punctuation characters with `set(string.punctuation)`."
   ]
  },
  {
   "cell_type": "code",
   "execution_count": 18,
   "metadata": {
    "deletable": false,
    "editable": false,
    "nbgrader": {
     "checksum": "762f42f220f9c92608e07fe67844a4e0",
     "grade": false,
     "grade_id": "cell-cd3b2d05a97f2965",
     "locked": true,
     "schema_version": 1,
     "solution": false
    }
   },
   "outputs": [],
   "source": [
    "import string\n",
    "punctuation = set(string.punctuation)"
   ]
  },
  {
   "cell_type": "markdown",
   "metadata": {
    "deletable": false,
    "editable": false,
    "nbgrader": {
     "checksum": "eca3dfe3b3411600abf00ed0fa9c8642",
     "grade": false,
     "grade_id": "cell-3d824be2e5f009aa",
     "locked": true,
     "schema_version": 1,
     "solution": false
    }
   },
   "source": [
    "Now we will specify our formatting function. The function takes a word as input parameter and returns the formatted word. \n",
    "\n",
    "<div class=\"alert alert-info\" role=\"alert\">\n",
    "<h1>Exercise 8</h1>\n",
    "<p>Implement the formatting function. The function should remove punctuation characters and make sure that all characters in the word are lowercase.</p>\n",
    "</p>\n",
    "</div>\n",
    "\n",
    "## Hints\n",
    "- You can loop through characters in a word using a `for` loop.\n",
    "- You can check if a character is in the punctuation set using a `if` clause together with `in`.\n",
    "- You should append all characters that are not punctuation characters to the list `non_punctuation_chars`.\n",
    "- Then you need to join the characters to a string. The easiest way to do so is to use `\"\".join(list_of_chars)`, i.e. we concatenate the characters in the list with the empty string `\"\"`.\n",
    "- Convert the word to a lowercase version using `str.lower()` and store that version in `new_word_lower`\n",
    "- Finally, don't forget to return `new_word_lower`!"
   ]
  },
  {
   "cell_type": "code",
   "execution_count": 25,
   "metadata": {
    "deletable": false,
    "nbgrader": {
     "checksum": "110839c8e58797c1a979b9cc2d9a3f31",
     "grade": false,
     "grade_id": "cell-6cbcbaae8985bb88",
     "locked": false,
     "schema_version": 1,
     "solution": true
    }
   },
   "outputs": [],
   "source": [
    "def format_word(word):\n",
    "    non_punctuation_chars = []\n",
    "    for character in word:\n",
    "        if character not in punctuation:\n",
    "            non_punctuation_chars.append(character)\n",
    "    new_word = \"\".join(non_punctuation_chars)\n",
    "    new_word_lowercase =str .lower(new_word)\n",
    "    \n",
    "   \n",
    "    return (new_word_lowercase)\n",
    "\n"
   ]
  },
  {
   "cell_type": "code",
   "execution_count": 20,
   "metadata": {
    "deletable": false,
    "editable": false,
    "nbgrader": {
     "checksum": "b0ee326154ef11dfc43d882251cc3860",
     "grade": true,
     "grade_id": "cell-13b33e033b2e16dc",
     "locked": true,
     "points": 15,
     "schema_version": 1,
     "solution": false
    }
   },
   "outputs": [],
   "source": [
    "assert_equal(format_word(\"TESTWORD\"), 'testword')\n",
    "assert_equal(format_word(\"\"), '')\n",
    "assert_equal(format_word(\"!&*\"), '')\n",
    "assert_equal(format_word(\"ARGH!&*\"),'argh')\n",
    "assert_raises(TypeError,format_word, 12)"
   ]
  },
  {
   "cell_type": "markdown",
   "metadata": {
    "deletable": false,
    "editable": false,
    "nbgrader": {
     "checksum": "1126ec37ad52d9fe9b546f29b9ae06b8",
     "grade": false,
     "grade_id": "cell-f90c619d011ac5ec",
     "locked": true,
     "schema_version": 1,
     "solution": false
    }
   },
   "source": [
    "We will write a second function that will count how many times a word occurs in a book file.\n",
    " \n",
    "<div class=\"alert alert-info\" role=\"alert\">\n",
    "<h1>Exercise 9</h1>\n",
    "<p>Implement the function word_occurence_in_book. The function takes two arguments, the path of the text file and a word. It returns the number of times the (formatted) word occurs in the list.</p>\n",
    "</div>\n",
    "\n",
    "### Hints\n",
    "- First open the file (as we did for Exercise 7) and read each line in the file.\n",
    "- To get individual words from a line we can use `str.split(\" \")`. This method takes a string (a line in the text) and splits it into individual strings at each whitespace (\" \"). It returns a list of strings.\n",
    "- Iterate through the list of words in each line. Remember to format the word using the function you just implemented and store the result in `formatted_word`. Then check if the formatted word is equal to the word we are looking for `count_word` (use an `if` statement). If it is equal you should increment the count."
   ]
  },
  {
   "cell_type": "code",
   "execution_count": 30,
   "metadata": {
    "deletable": false,
    "nbgrader": {
     "checksum": "bd14f6c7f02c9aa49836d3e4b524de72",
     "grade": false,
     "grade_id": "cell-f386c64f861fbd39",
     "locked": false,
     "schema_version": 1,
     "solution": true
    }
   },
   "outputs": [
    {
     "name": "stdout",
     "output_type": "stream",
     "text": [
      "9471\n"
     ]
    }
   ],
   "source": [
    "def word_occurence_in_book(book_path, count_word):\n",
    "    count = 0\n",
    "    with open(book_path) as file:\n",
    "         book_lines = file.readlines()\n",
    "    for line in book_lines:\n",
    "        words = line.split(\" \")\n",
    "        for word in words:\n",
    "            formatted_word = format_word(word)\n",
    "            if count_word==formatted_word:\n",
    "                      count +=1\n",
    "    return count\n"
   ]
  },
  {
   "cell_type": "code",
   "execution_count": 22,
   "metadata": {
    "deletable": false,
    "editable": false,
    "nbgrader": {
     "checksum": "6f5476c47d0351dffe2014d4a9e39c07",
     "grade": true,
     "grade_id": "cell-a2c5832ea9de834b",
     "locked": true,
     "points": 25,
     "schema_version": 1,
     "solution": false
    }
   },
   "outputs": [
    {
     "ename": "AssertionError",
     "evalue": "10435 != 9471",
     "output_type": "error",
     "traceback": [
      "\u001b[0;31m---------------------------------------------------------------------------\u001b[0m",
      "\u001b[0;31mAssertionError\u001b[0m                            Traceback (most recent call last)",
      "\u001b[0;32m<ipython-input-22-26a156980430>\u001b[0m in \u001b[0;36m<module>\u001b[0;34m()\u001b[0m\n\u001b[0;32m----> 1\u001b[0;31m \u001b[0massert_equal\u001b[0m\u001b[0;34m(\u001b[0m\u001b[0mword_occurence_in_book\u001b[0m\u001b[0;34m(\u001b[0m\u001b[0;34m\"books/Charles_Darwin/On_the_Origin_of_Species.txt\"\u001b[0m\u001b[0;34m,\u001b[0m \u001b[0;34m\"the\"\u001b[0m\u001b[0;34m)\u001b[0m\u001b[0;34m,\u001b[0m \u001b[0;36m9471\u001b[0m\u001b[0;34m)\u001b[0m\u001b[0;34m\u001b[0m\u001b[0m\n\u001b[0m\u001b[1;32m      2\u001b[0m \u001b[0massert_equal\u001b[0m\u001b[0;34m(\u001b[0m\u001b[0mword_occurence_in_book\u001b[0m\u001b[0;34m(\u001b[0m\u001b[0;34m\"books/Charles_Darwin/The_Power_of_Movement_in_Plants.txt\"\u001b[0m\u001b[0;34m,\u001b[0m \u001b[0;34m\"book\"\u001b[0m\u001b[0;34m)\u001b[0m\u001b[0;34m,\u001b[0m \u001b[0;36m1\u001b[0m\u001b[0;34m)\u001b[0m\u001b[0;34m\u001b[0m\u001b[0m\n\u001b[1;32m      3\u001b[0m \u001b[0massert_equal\u001b[0m\u001b[0;34m(\u001b[0m\u001b[0mword_occurence_in_book\u001b[0m\u001b[0;34m(\u001b[0m\u001b[0;34m\"books/Charles_Darwin/The_Power_of_Movement_in_Plants.txt\"\u001b[0m\u001b[0;34m,\u001b[0m \u001b[0;34m\"move\"\u001b[0m\u001b[0;34m)\u001b[0m\u001b[0;34m,\u001b[0m \u001b[0;36m110\u001b[0m\u001b[0;34m)\u001b[0m\u001b[0;34m\u001b[0m\u001b[0m\n\u001b[1;32m      4\u001b[0m \u001b[0massert_equal\u001b[0m\u001b[0;34m(\u001b[0m\u001b[0mword_occurence_in_book\u001b[0m\u001b[0;34m(\u001b[0m\u001b[0;34m\"books/David_Hume/An_Enquiry_Concerning_Human_Understanding.txt\"\u001b[0m\u001b[0;34m,\u001b[0m \u001b[0;34m\"move\"\u001b[0m\u001b[0;34m)\u001b[0m\u001b[0;34m,\u001b[0m \u001b[0;36m8\u001b[0m\u001b[0;34m)\u001b[0m\u001b[0;34m\u001b[0m\u001b[0m\n\u001b[1;32m      5\u001b[0m \u001b[0massert_equal\u001b[0m\u001b[0;34m(\u001b[0m\u001b[0mword_occurence_in_book\u001b[0m\u001b[0;34m(\u001b[0m\u001b[0;34m\"books/Louis_Stevenson/Treasure_Island.txt\"\u001b[0m\u001b[0;34m,\u001b[0m \u001b[0;34m\"pirate\"\u001b[0m\u001b[0;34m)\u001b[0m\u001b[0;34m,\u001b[0m \u001b[0;36m6\u001b[0m\u001b[0;34m)\u001b[0m\u001b[0;34m\u001b[0m\u001b[0m\n",
      "\u001b[0;32m/opt/conda/lib/python3.6/unittest/case.py\u001b[0m in \u001b[0;36massertEqual\u001b[0;34m(self, first, second, msg)\u001b[0m\n\u001b[1;32m    827\u001b[0m         \"\"\"\n\u001b[1;32m    828\u001b[0m         \u001b[0massertion_func\u001b[0m \u001b[0;34m=\u001b[0m \u001b[0mself\u001b[0m\u001b[0;34m.\u001b[0m\u001b[0m_getAssertEqualityFunc\u001b[0m\u001b[0;34m(\u001b[0m\u001b[0mfirst\u001b[0m\u001b[0;34m,\u001b[0m \u001b[0msecond\u001b[0m\u001b[0;34m)\u001b[0m\u001b[0;34m\u001b[0m\u001b[0m\n\u001b[0;32m--> 829\u001b[0;31m         \u001b[0massertion_func\u001b[0m\u001b[0;34m(\u001b[0m\u001b[0mfirst\u001b[0m\u001b[0;34m,\u001b[0m \u001b[0msecond\u001b[0m\u001b[0;34m,\u001b[0m \u001b[0mmsg\u001b[0m\u001b[0;34m=\u001b[0m\u001b[0mmsg\u001b[0m\u001b[0;34m)\u001b[0m\u001b[0;34m\u001b[0m\u001b[0m\n\u001b[0m\u001b[1;32m    830\u001b[0m \u001b[0;34m\u001b[0m\u001b[0m\n\u001b[1;32m    831\u001b[0m     \u001b[0;32mdef\u001b[0m \u001b[0massertNotEqual\u001b[0m\u001b[0;34m(\u001b[0m\u001b[0mself\u001b[0m\u001b[0;34m,\u001b[0m \u001b[0mfirst\u001b[0m\u001b[0;34m,\u001b[0m \u001b[0msecond\u001b[0m\u001b[0;34m,\u001b[0m \u001b[0mmsg\u001b[0m\u001b[0;34m=\u001b[0m\u001b[0;32mNone\u001b[0m\u001b[0;34m)\u001b[0m\u001b[0;34m:\u001b[0m\u001b[0;34m\u001b[0m\u001b[0m\n",
      "\u001b[0;32m/opt/conda/lib/python3.6/unittest/case.py\u001b[0m in \u001b[0;36m_baseAssertEqual\u001b[0;34m(self, first, second, msg)\u001b[0m\n\u001b[1;32m    820\u001b[0m             \u001b[0mstandardMsg\u001b[0m \u001b[0;34m=\u001b[0m \u001b[0;34m'%s != %s'\u001b[0m \u001b[0;34m%\u001b[0m \u001b[0m_common_shorten_repr\u001b[0m\u001b[0;34m(\u001b[0m\u001b[0mfirst\u001b[0m\u001b[0;34m,\u001b[0m \u001b[0msecond\u001b[0m\u001b[0;34m)\u001b[0m\u001b[0;34m\u001b[0m\u001b[0m\n\u001b[1;32m    821\u001b[0m             \u001b[0mmsg\u001b[0m \u001b[0;34m=\u001b[0m \u001b[0mself\u001b[0m\u001b[0;34m.\u001b[0m\u001b[0m_formatMessage\u001b[0m\u001b[0;34m(\u001b[0m\u001b[0mmsg\u001b[0m\u001b[0;34m,\u001b[0m \u001b[0mstandardMsg\u001b[0m\u001b[0;34m)\u001b[0m\u001b[0;34m\u001b[0m\u001b[0m\n\u001b[0;32m--> 822\u001b[0;31m             \u001b[0;32mraise\u001b[0m \u001b[0mself\u001b[0m\u001b[0;34m.\u001b[0m\u001b[0mfailureException\u001b[0m\u001b[0;34m(\u001b[0m\u001b[0mmsg\u001b[0m\u001b[0;34m)\u001b[0m\u001b[0;34m\u001b[0m\u001b[0m\n\u001b[0m\u001b[1;32m    823\u001b[0m \u001b[0;34m\u001b[0m\u001b[0m\n\u001b[1;32m    824\u001b[0m     \u001b[0;32mdef\u001b[0m \u001b[0massertEqual\u001b[0m\u001b[0;34m(\u001b[0m\u001b[0mself\u001b[0m\u001b[0;34m,\u001b[0m \u001b[0mfirst\u001b[0m\u001b[0;34m,\u001b[0m \u001b[0msecond\u001b[0m\u001b[0;34m,\u001b[0m \u001b[0mmsg\u001b[0m\u001b[0;34m=\u001b[0m\u001b[0;32mNone\u001b[0m\u001b[0;34m)\u001b[0m\u001b[0;34m:\u001b[0m\u001b[0;34m\u001b[0m\u001b[0m\n",
      "\u001b[0;31mAssertionError\u001b[0m: 10435 != 9471"
     ]
    }
   ],
   "source": [
    "assert_equal(word_occurence_in_book(\"books/Charles_Darwin/On_the_Origin_of_Species.txt\", \"the\"), 9471)\n",
    "assert_equal(word_occurence_in_book(\"books/Charles_Darwin/The_Power_of_Movement_in_Plants.txt\", \"book\"), 1)\n",
    "assert_equal(word_occurence_in_book(\"books/Charles_Darwin/The_Power_of_Movement_in_Plants.txt\", \"move\"), 110)\n",
    "assert_equal(word_occurence_in_book(\"books/David_Hume/An_Enquiry_Concerning_Human_Understanding.txt\", \"move\"), 8)\n",
    "assert_equal(word_occurence_in_book(\"books/Louis_Stevenson/Treasure_Island.txt\", \"pirate\"), 6)\n",
    "assert_raises(FileNotFoundError, word_occurence_in_book, \"\", \"move\")"
   ]
  },
  {
   "cell_type": "markdown",
   "metadata": {
    "deletable": false,
    "editable": false,
    "nbgrader": {
     "checksum": "3013445846e4477abe8dfc2548adb011",
     "grade": false,
     "grade_id": "cell-056ec332690cf399",
     "locked": true,
     "schema_version": 1,
     "solution": false
    }
   },
   "source": [
    "Now, we are going to count the occurrence of words for the works of each author. Previously we have been using lists or individual variables to store our results. Since we are looking at the occurrence for each author in the 'book' folder and that folder could potentially contain many authors, a nicer way to store our counts is to use a dictionary. You can read more about dictionaries [here](https://docs.python.org/3/tutorial/datastructures.html#dictionaries).\n",
    "\n",
    "We will store the author name as the key of the dictionary and its value will correspond to how many times the word occurs in their books, like this: ```{author_name: 35}```.\n",
    "\n",
    "<div class=\"alert alert-info\" role=\"alert\">\n",
    "<h1>Exercise 10</h1>\n",
    "<p>For each author and each book by that author count the occurrence of the word <em>mind</em>. Store your results in a dictionary. Make sure that you count the formatted version of the word!</p>\n",
    "</div>"
   ]
  },
  {
   "cell_type": "code",
   "execution_count": null,
   "metadata": {
    "deletable": false,
    "nbgrader": {
     "checksum": "6c839719bfac0d359d075b37221eaa6b",
     "grade": false,
     "grade_id": "cell-42c212087d45a818",
     "locked": false,
     "schema_version": 1,
     "solution": true
    }
   },
   "outputs": [],
   "source": [
    "author_count_dictionary = {}\n",
    "for author in os.listdir(path):\n",
    "    author_books = os.listdir(path+author)\n",
    "    author_count = 0\n",
    "    for book in author_books:\n",
    "            book_path = path+author+\"/\"+book\n",
    "            count_in_book = word_occurence_in_book(book_path, \"mind\")\n",
    "            author_count += count_in_book\n",
    "            author_count_dictionary[author]=author_count\n",
    "print(author_count_dictionary)\n"
   ]
  },
  {
   "cell_type": "code",
   "execution_count": null,
   "metadata": {
    "deletable": false,
    "editable": false,
    "nbgrader": {
     "checksum": "384d7bea6063090724b401fe93f1d437",
     "grade": true,
     "grade_id": "cell-779b15c6421f0999",
     "locked": true,
     "points": 22,
     "schema_version": 1,
     "solution": false
    }
   },
   "outputs": [],
   "source": [
    "assert_equal(author_count_dictionary, {'Charles_Darwin': 55,  'Conan_Doyle': 103,  'David_Hume': 667,  'Louis_Stevenson': 36,  'Walter_Scott': 56})"
   ]
  }
 ],
 "metadata": {
  "kernelspec": {
   "display_name": "Python 3",
   "language": "python",
   "name": "python3"
  },
  "language_info": {
   "codemirror_mode": {
    "name": "ipython",
    "version": 3
   },
   "file_extension": ".py",
   "mimetype": "text/x-python",
   "name": "python",
   "nbconvert_exporter": "python",
   "pygments_lexer": "ipython3",
   "version": "3.7.3"
  }
 },
 "nbformat": 4,
 "nbformat_minor": 2
}
