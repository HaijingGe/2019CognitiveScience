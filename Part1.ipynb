{
 "cells": [
  {
   "cell_type": "code",
   "execution_count": 3,
   "metadata": {
    "deletable": false,
    "editable": false,
    "nbgrader": {
     "checksum": "570287d28db844a1a4bb6af16c082a1c",
     "grade": false,
     "grade_id": "cell-e1926e1e083b4e14",
     "locked": true,
     "schema_version": 1,
     "solution": false
    }
   },
   "outputs": [],
   "source": [
    "#this is to plot inside the notebook\n",
    "%matplotlib inline\n",
    "\n",
    "# Let's start by importing the libraries you will be using in this assignment\n",
    "import numpy as np\n",
    "import sklearn\n",
    "import matplotlib.pyplot as plt\n",
    "import matplotlib\n",
    "\n",
    "# A seed for the random number generator so all results are reproducible\n",
    "np.random.seed(15)\n",
    "\n",
    "# Makes our plots look nicer\n",
    "matplotlib.style.use(\"seaborn-notebook\")\n",
    "\n",
    "# Let's also hide unnecessary warnings\n",
    "import warnings\n",
    "warnings.filterwarnings('ignore')"
   ]
  },
  {
   "cell_type": "markdown",
   "metadata": {
    "deletable": false,
    "editable": false,
    "nbgrader": {
     "checksum": "00af22f051814f7aef991c6802305791",
     "grade": false,
     "grade_id": "cell-62e7e182d2d5a5a2",
     "locked": true,
     "schema_version": 1,
     "solution": false
    }
   },
   "source": [
    "# Assignment 1 Set 1: Learning Categories for Mammals and Birds\n",
    "\n",
    "## A Perceptron for Mammals and Birds\n",
    "This part of the assignment is designed to look at neural networks in the context of a more complicated classification problem, and to look at a data set related to human concepts and categories.\n",
    "\n",
    "\n",
    "### Classifying animals\n",
    "\n",
    "We are going to figure out whether a perceptron can learn to distinguish animals into two classes: mammals and birds. In the data folder, there should be 9 different files. \n",
    "\n",
    "Load the data into the notebook:"
   ]
  },
  {
   "cell_type": "code",
   "execution_count": 4,
   "metadata": {
    "deletable": false,
    "editable": false,
    "nbgrader": {
     "checksum": "6c89ae11ea552b20960f09814f40d116",
     "grade": false,
     "grade_id": "cell-2d71dce34d646cda",
     "locked": true,
     "schema_version": 1,
     "solution": false
    }
   },
   "outputs": [],
   "source": [
    "# import the data to train the network on\n",
    "birds = np.genfromtxt(open('./data/birds.txt', \"rb\"), delimiter=\",\").T\n",
    "mammals = np.genfromtxt(open('./data/mammals.txt', \"rb\"), delimiter=\",\").T\n",
    "\n",
    "birds_tok = np.genfromtxt(open('./data/birds_tok.txt', \"rb\"),dtype='str', delimiter=\",\")\n",
    "mammals_tok = np.genfromtxt(open('./data/mammals_tok.txt', \"rb\"),dtype='str', delimiter=\",\")\n",
    "\n",
    "feats = np.genfromtxt(open('./data/feats.txt', \"rb\"),dtype='str', delimiter=\",\")"
   ]
  },
  {
   "cell_type": "markdown",
   "metadata": {
    "deletable": false,
    "editable": false,
    "nbgrader": {
     "checksum": "da4c7346fcaef358962847239f84960c",
     "grade": false,
     "grade_id": "cell-dc669a939ec17665",
     "locked": true,
     "schema_version": 1,
     "solution": false
    }
   },
   "source": [
    "To train the perceptron, we will be using data from McRae et al. (2005). You may want to have a quick read through the paper before doing the assignment (see the materials on Learn).\n",
    "\n",
    "To inspect the data you can use: \n",
    "    \n",
    "`print(filename)` \n",
    "\n",
    "The **birds** and **mammals** matrices should have 20 rows and 16 columns. Each column in the matrix corresponds to a visual feature (e.g., has legs, flies) and each row to an animal (e.g., stork, pigeon). The features are 16 in total, and the animals are 20 per matrix (i.e., 20 birds and 20 mammals).\n",
    "\n",
    "\n",
    "<div class=\"alert alert-info\" role=\"alert\">\n",
    "<h1>Exercise 1)</h1>\n",
    "<p>\n",
    "Store the shapes of the birds and mammals files (2 Points).\n",
    "</p>\n",
    "</div>\n"
   ]
  },
  {
   "cell_type": "code",
   "execution_count": 5,
   "metadata": {
    "deletable": false,
    "nbgrader": {
     "checksum": "916e517721bbdd699f34cabffc69a05b",
     "grade": false,
     "grade_id": "cell-9e06fd148423b772",
     "locked": false,
     "schema_version": 1,
     "solution": true
    }
   },
   "outputs": [],
   "source": [
    "\n",
    "birds_shape = birds.shape     \n",
    "mammals_shape = mammals.shape\n",
    "\n"
   ]
  },
  {
   "cell_type": "code",
   "execution_count": 6,
   "metadata": {
    "deletable": false,
    "editable": false,
    "nbgrader": {
     "checksum": "3714d48513a1a1470941b1a5fda65e0d",
     "grade": true,
     "grade_id": "cell-b12cc92616d20068",
     "locked": true,
     "points": 2,
     "schema_version": 1,
     "solution": false
    }
   },
   "outputs": [],
   "source": [
    "\"\"\"Check that *mammals* and *birds* matrices are the  correct shape\"\"\"\n",
    "assert(birds_shape == mammals_shape)\n",
    "assert(mammals_shape == (20,16))"
   ]
  },
  {
   "cell_type": "markdown",
   "metadata": {
    "deletable": false,
    "editable": false,
    "nbgrader": {
     "checksum": "1000484339d6125325c783634a565c0c",
     "grade": false,
     "grade_id": "cell-8482e32849405b1e",
     "locked": true,
     "schema_version": 1,
     "solution": false
    }
   },
   "source": [
    "The features are defined in the vector `feats`, the birds are defined in vector `birds_tok`, and the mammals in vector `mammals_tok`. \n",
    "\n",
    "The visual features were elicited from humans who were presented with a word (e.g., *tiger*) and asked to list its properties. The cells in the mammals and birds matrices correspond to the number of humans who listed a specific feature for each word. The counts are normalized so that each matrix row sums to one.\n",
    "\n",
    "The goal is to train a perceptron that distinguishes between mammals and birds, by deciding whether a given input is a bird. In other words, the perceptron should output 1 in the case of a bird and 0 in the case of a mammal. You will need a matrix, input, containing all training examples, and a target vector, targets birds, whose entry i is 1 if example i is a bird, and 0 otherwise (use `np.zeros(n)` and `np.ones(n)`) for this.\n",
    "\n",
    "\n",
    "<div class=\"alert alert-info\" role=\"alert\">\n",
    "<h1>Exercise 2 a)</h1>\n",
    "<p>\n",
    "Generate the input (`X_train`) and output (`y_train`) arrays. Then create an array with all animal names (`tokens_train`) (1 Point).\n",
    "</p>\n",
    "</div>\n",
    "\n",
    "- Use `np.concatenate((matrix1,matrix2))` to join both features for birds and mammals. For the output, use `np.concatenate((matrix1,matrix2))` again, combining `np.zeros(n)` and `np.ones(n))` to create the correct targets (*is it a bird?*). "
   ]
  },
  {
   "cell_type": "code",
   "execution_count": 7,
   "metadata": {
    "deletable": false,
    "nbgrader": {
     "checksum": "e80be82cb39dbd861d30f1a72b2ef54e",
     "grade": false,
     "grade_id": "cell-fdc1b44eed956fa5",
     "locked": false,
     "schema_version": 1,
     "solution": true
    }
   },
   "outputs": [],
   "source": [
    "# create the training data matrix X_train and target vector y_train\n",
    "X_train =  np.concatenate((birds,mammals))# concatenate birds and mammals\n",
    "y_train =  np.concatenate((np.ones(len(birds)),np.zeros(len(mammals))))  # 1 if bird, 0 if mammals\n",
    "tokens_train = np.concatenate((birds_tok,mammals_tok)) # concatenate animal names birds_tok and mammals_tok"
   ]
  },
  {
   "cell_type": "code",
   "execution_count": 8,
   "metadata": {
    "deletable": false,
    "nbgrader": {
     "checksum": "7d1ff3042188c52d5bc31ebbe058b0c9",
     "grade": false,
     "grade_id": "cell-4aea7ba521acf5ca",
     "locked": false,
     "schema_version": 1,
     "solution": true
    }
   },
   "outputs": [
    {
     "name": "stdout",
     "output_type": "stream",
     "text": [
      "['beh_-_eats' 'beh_-_eats_grass' 'beh_-_flies' 'has_4_legs' 'has_a_beak'\n",
      " 'has_a_tail' 'has_feathers' 'has_fur' 'has_hooves' 'has_horns' 'has_legs'\n",
      " 'has_wings' 'is_brown' 'is_fast' 'is_large' 'is_small']\n",
      "[[0.         0.         0.06329114 0.         0.10126582 0.11392405\n",
      "  0.27848101 0.         0.         0.         0.         0.\n",
      "  0.         0.         0.07594937 0.        ]\n",
      " [0.         0.         0.         0.         0.15107914 0.\n",
      "  0.         0.         0.         0.         0.         0.07194245\n",
      "  0.         0.         0.         0.05035971]\n",
      " [0.09615385 0.         0.10897436 0.         0.13461538 0.\n",
      "  0.05769231 0.         0.         0.         0.13461538 0.06410256\n",
      "  0.         0.         0.05769231 0.        ]\n",
      " [0.04761905 0.         0.22857143 0.         0.1047619  0.\n",
      "  0.14285714 0.         0.         0.         0.         0.17142857\n",
      "  0.         0.         0.         0.        ]\n",
      " [0.19       0.         0.1        0.         0.06       0.\n",
      "  0.11       0.         0.         0.         0.         0.\n",
      "  0.         0.         0.         0.09      ]\n",
      " [0.         0.         0.21348315 0.         0.16853933 0.\n",
      "  0.11235955 0.         0.         0.         0.         0.15730337\n",
      "  0.         0.         0.         0.05617978]\n",
      " [0.19402985 0.         0.32835821 0.         0.         0.\n",
      "  0.11940299 0.         0.         0.         0.         0.10447761\n",
      "  0.         0.         0.         0.        ]\n",
      " [0.14285714 0.         0.12857143 0.         0.11428571 0.\n",
      "  0.08571429 0.         0.         0.         0.         0.07142857\n",
      "  0.         0.         0.1        0.        ]\n",
      " [0.         0.         0.17391304 0.         0.23913043 0.\n",
      "  0.43478261 0.         0.         0.         0.         0.15217391\n",
      "  0.         0.         0.         0.        ]\n",
      " [0.15277778 0.         0.20833333 0.         0.11111111 0.\n",
      "  0.13888889 0.         0.         0.         0.         0.125\n",
      "  0.         0.         0.         0.11111111]\n",
      " [0.         0.         0.26315789 0.         0.15789474 0.\n",
      "  0.15789474 0.         0.         0.         0.         0.1754386\n",
      "  0.         0.         0.         0.        ]\n",
      " [0.         0.         0.26153846 0.         0.2        0.\n",
      "  0.32307692 0.         0.         0.         0.         0.21538462\n",
      "  0.         0.         0.         0.        ]\n",
      " [0.09375    0.         0.1171875  0.         0.0859375  0.\n",
      "  0.109375   0.         0.         0.         0.0546875  0.0703125\n",
      "  0.         0.         0.         0.1171875 ]\n",
      " [0.11235955 0.         0.13483146 0.         0.1011236  0.\n",
      "  0.14606742 0.         0.         0.         0.         0.11235955\n",
      "  0.         0.         0.         0.05617978]\n",
      " [0.15789474 0.         0.         0.         0.         0.\n",
      "  0.39473684 0.         0.         0.         0.         0.15789474\n",
      "  0.         0.         0.28947368 0.        ]\n",
      " [0.12727273 0.         0.09090909 0.         0.14545455 0.\n",
      "  0.38181818 0.         0.         0.         0.09090909 0.16363636\n",
      "  0.         0.         0.         0.        ]\n",
      " [0.28915663 0.         0.15662651 0.         0.09638554 0.\n",
      "  0.10843373 0.         0.         0.         0.         0.\n",
      "  0.         0.         0.         0.07228916]\n",
      " [0.         0.         0.24719101 0.         0.14606742 0.\n",
      "  0.17977528 0.         0.         0.         0.         0.14606742\n",
      "  0.         0.         0.         0.        ]\n",
      " [0.         0.         0.         0.         0.2278481  0.\n",
      "  0.20253165 0.         0.         0.         0.         0.16455696\n",
      "  0.         0.         0.         0.        ]\n",
      " [0.10126582 0.         0.20253165 0.         0.13924051 0.\n",
      "  0.15189873 0.         0.         0.         0.         0.12658228\n",
      "  0.         0.         0.         0.21518987]\n",
      " [0.         0.         0.         0.48       0.         0.\n",
      "  0.         0.         0.         0.         0.         0.\n",
      "  0.         0.28       0.         0.        ]\n",
      " [0.12244898 0.         0.         0.10204082 0.         0.09183673\n",
      "  0.         0.2244898  0.         0.         0.10204082 0.\n",
      "  0.         0.         0.         0.        ]\n",
      " [0.         0.         0.         0.14705882 0.         0.\n",
      "  0.         0.         0.         0.         0.         0.\n",
      "  0.         0.14705882 0.17647059 0.        ]\n",
      " [0.         0.         0.         0.38888889 0.         0.13888889\n",
      "  0.         0.         0.         0.         0.         0.\n",
      "  0.         0.         0.         0.        ]\n",
      " [0.         0.         0.         0.         0.         0.09836066\n",
      "  0.         0.18032787 0.         0.         0.         0.\n",
      "  0.         0.         0.32786885 0.        ]\n",
      " [0.12048193 0.         0.         0.08433735 0.         0.19277108\n",
      "  0.         0.         0.09638554 0.         0.08433735 0.\n",
      "  0.         0.         0.         0.15662651]\n",
      " [0.         0.         0.         0.20689655 0.         0.\n",
      "  0.         0.         0.10344828 0.0862069  0.         0.\n",
      "  0.12068966 0.0862069  0.10344828 0.        ]\n",
      " [0.11235955 0.         0.         0.13483146 0.         0.11235955\n",
      "  0.         0.         0.05617978 0.         0.13483146 0.\n",
      "  0.         0.08988764 0.21348315 0.        ]\n",
      " [0.13138686 0.12408759 0.         0.09489051 0.         0.\n",
      "  0.         0.         0.         0.         0.09489051 0.\n",
      "  0.05839416 0.         0.11678832 0.        ]\n",
      " [0.         0.         0.         0.         0.         0.\n",
      "  0.         0.         0.         0.         0.         0.\n",
      "  0.29411765 0.         0.5        0.        ]\n",
      " [0.         0.         0.         0.08860759 0.         0.\n",
      "  0.         0.08860759 0.         0.08860759 0.10126582 0.\n",
      "  0.06329114 0.06329114 0.17721519 0.        ]\n",
      " [0.         0.11363636 0.         0.27272727 0.         0.15909091\n",
      "  0.         0.         0.20454545 0.         0.         0.\n",
      "  0.         0.         0.         0.25      ]\n",
      " [0.         0.         0.         0.13483146 0.         0.06741573\n",
      "  0.         0.06741573 0.07865169 0.         0.13483146 0.\n",
      "  0.07865169 0.14606742 0.         0.        ]\n",
      " [0.         0.17460317 0.         0.0952381  0.         0.\n",
      "  0.         0.0952381  0.         0.         0.         0.\n",
      "  0.         0.         0.         0.        ]\n",
      " [0.         0.         0.         0.24       0.         0.14666667\n",
      "  0.         0.         0.09333333 0.         0.25333333 0.\n",
      "  0.08       0.         0.         0.        ]\n",
      " [0.         0.         0.         0.         0.         0.\n",
      "  0.         0.         0.         0.55       0.         0.\n",
      "  0.         0.         0.45       0.        ]\n",
      " [0.18181818 0.04958678 0.         0.09917355 0.         0.04958678\n",
      "  0.         0.0661157  0.0661157  0.15702479 0.09917355 0.\n",
      "  0.         0.         0.         0.        ]\n",
      " [0.         0.0862069  0.         0.25862069 0.         0.\n",
      "  0.         0.         0.         0.18965517 0.         0.\n",
      "  0.15517241 0.         0.31034483 0.        ]\n",
      " [0.12903226 0.11827957 0.         0.13978495 0.         0.\n",
      "  0.         0.         0.         0.         0.15053763 0.\n",
      "  0.         0.         0.         0.        ]\n",
      " [0.         0.         0.         0.08064516 0.         0.\n",
      "  0.         0.         0.         0.         0.         0.\n",
      "  0.07258065 0.         0.         0.        ]]\n",
      "['peacock' 'penguin' 'stork' 'pigeon' 'budgie' 'bluejay' 'woodpecker'\n",
      " 'crow' 'pheasant' 'starling' 'oriole' 'partridge' 'canary' 'parakeet'\n",
      " 'turkey' 'chicken' 'robin' 'dove' 'rooster' 'finch' 'hyena' 'cat'\n",
      " 'leopard' 'coyote' 'lion' 'pony' 'elk' 'horse' 'cow' 'bison' 'caribou'\n",
      " 'calf' 'deer' 'lamb' 'donkey' 'bull' 'goat' 'ox' 'sheep' 'giraffe']\n"
     ]
    }
   ],
   "source": [
    "# YOUR CODE HERE\n",
    "print(feats)\n",
    "print(X_train)\n",
    "print(tokens_train)\n"
   ]
  },
  {
   "cell_type": "markdown",
   "metadata": {
    "deletable": false,
    "editable": false,
    "nbgrader": {
     "checksum": "61ee2ea8120ee132809fd5cc9f0506d2",
     "grade": false,
     "grade_id": "cell-3c999793a1aae308",
     "locked": true,
     "schema_version": 1,
     "solution": false
    }
   },
   "source": [
    "<div class=\"alert alert-info\" role=\"alert\">\n",
    "<h1>Exercise 2 b)</h1>\n",
    "<p>\n",
    "Now create the perceptron, similar to how we created the MLP in assignment 1 part 0. Create a new perceptron and fit it to the data like we did in part 0 of this assignment (2 points).\n",
    "</p>\n",
    "</div>\n",
    "\n",
    "- Store the perceptron in `perceptron`. \n",
    "- Store the predictions in a `predictions_perceptron` variable.\n",
    "- Use all the default settings for the perceptron.\n",
    "- Since we pass multiple (16) features our data is already in the correct shape. In contrast to part 0, you will not have to reshape the training data!"
   ]
  },
  {
   "cell_type": "code",
   "execution_count": 9,
   "metadata": {
    "deletable": false,
    "nbgrader": {
     "checksum": "c1913e487a13bf6e8ee0dc3b576880ce",
     "grade": true,
     "grade_id": "cell-0d2cdc5c9bb2712a",
     "locked": false,
     "points": 2,
     "schema_version": 1,
     "solution": true
    }
   },
   "outputs": [],
   "source": [
    "#import the perceptron model from scikit-learn\n",
    "from sklearn.linear_model import Perceptron\n",
    "# Create Perceptron \n",
    "perceptron = Perceptron()\n",
    "\n",
    "# Fit network to the data  and \n",
    "# Make predictions on training data \n",
    "perceptron.fit(X_train,y_train)\n",
    "predictions_perceptron =perceptron.predict(X_train)\n",
    "\n"
   ]
  },
  {
   "cell_type": "markdown",
   "metadata": {
    "deletable": false,
    "editable": false,
    "nbgrader": {
     "checksum": "77fe00e0516d32d8b52adf41d2858b9b",
     "grade": false,
     "grade_id": "cell-f3776c1e520d2d13",
     "locked": true,
     "schema_version": 1,
     "solution": false
    }
   },
   "source": [
    "<div class=\"alert alert-info\" role=\"alert\">\n",
    "<h1>Exercise 2c)</h1>\n",
    "<p>\n",
    "Calculate the error of the perceptron on the training data using the mean_squared_error function imported in the cell below. \n",
    "(2 points)\n",
    "</p>\n",
    "</div>\n",
    "\n",
    "- Store the error in `MSE_perceptron`."
   ]
  },
  {
   "cell_type": "code",
   "execution_count": 10,
   "metadata": {
    "deletable": false,
    "nbgrader": {
     "checksum": "6482a8a1531dc06e9bd6d67f36f32c4e",
     "grade": true,
     "grade_id": "cell-0f9b5cc8c43c739b",
     "locked": false,
     "points": 2,
     "schema_version": 1,
     "solution": true
    }
   },
   "outputs": [
    {
     "name": "stdout",
     "output_type": "stream",
     "text": [
      "0.0\n"
     ]
    }
   ],
   "source": [
    "# import mean squared error from scikit-learn\n",
    "from sklearn.metrics import mean_squared_error\n",
    "# calculate MSE here\n",
    "MSE_perceptron = mean_squared_error(predictions_perceptron , y_train)\n",
    "print(MSE_perceptron)\n"
   ]
  },
  {
   "cell_type": "markdown",
   "metadata": {
    "deletable": false,
    "editable": false,
    "nbgrader": {
     "checksum": "cabc5252145c7dce160b152935cf2205",
     "grade": false,
     "grade_id": "cell-a6bc2d17210a7468",
     "locked": true,
     "schema_version": 1,
     "solution": false
    }
   },
   "source": [
    "<div class=\"alert alert-info\" role=\"alert\">\n",
    "<h1>Exercise 2 d)</h1>\n",
    "<p>\n",
    "What was the MSE? \n",
    "Did the model classify all examples correctly? Is this surprising? Briefly discuss the classification results. \n",
    "(5 points)\n",
    "</p>\n",
    "</div>"
   ]
  },
  {
   "cell_type": "markdown",
   "metadata": {
    "deletable": false,
    "nbgrader": {
     "checksum": "f99dcf73a21eb0283253897927e50da1",
     "grade": true,
     "grade_id": "cell-c5ae4cad350cbf5d",
     "locked": false,
     "points": 5,
     "schema_version": 1,
     "solution": true
    }
   },
   "source": [
    "The MSE was zero hence the model classified all examples correctly.\n",
    "The perceptron's job is to linearly divide the data.In fact,after having a look at the features each animal possesses,we can notice that there are a few features that can discriminate them easily.For example,no birds eat grass or have four legs and they tend to have beaks and feathers.\n",
    "Since the inputs are in fact distributed with some pattern,the result is not as surprising as it first appeared to be.\n",
    "\n"
   ]
  },
  {
   "cell_type": "markdown",
   "metadata": {
    "deletable": false,
    "editable": false,
    "nbgrader": {
     "checksum": "a64e4b5905bacb7618421521f7fcf90b",
     "grade": false,
     "grade_id": "cell-bc912a2a706a5a88",
     "locked": true,
     "schema_version": 1,
     "solution": false
    }
   },
   "source": [
    "# Comparing different models.\n",
    "\n",
    "Now we'll be using a slightly more complicated neural network, resembling the one we saw in Tutorial 3. It has more units in its hidden layer, but otherwise it's very similar. It might be helpful to know that unlike our in-class example, the weights don't need to start at zero or another fixed value. \n",
    "\n",
    "\n",
    "<div class=\"alert alert-info\" role=\"alert\">\n",
    "<h1>Exercise 3 a)</h1>\n",
    "<p>\n",
    "Fit the new network, `mlp` to the training data and assess whether it has learned the correct classification by making it predict the categories of the animals it's been trained on. Store the predictions in `predictions_mlp`.\n",
    "</p>\n",
    "\n",
    "<p>\n",
    "Then calculate the MSE of the new network and examine its performance. Store the error in `MSE_mlp`.\n",
    "</p>\n",
    "(3 Points)\n",
    "</div>"
   ]
  },
  {
   "cell_type": "code",
   "execution_count": 11,
   "metadata": {
    "deletable": false,
    "nbgrader": {
     "checksum": "5f211aa6a83164257647912896d49acd",
     "grade": true,
     "grade_id": "cell-ee8e71eef41b032b",
     "locked": false,
     "points": 3,
     "schema_version": 1,
     "solution": true
    }
   },
   "outputs": [
    {
     "name": "stdout",
     "output_type": "stream",
     "text": [
      "0.0\n"
     ]
    }
   ],
   "source": [
    "#Let's create the network - we use the logistic sigmoid function (logistic) as activation function\n",
    "# and stochastic gradient descent ('sgd') to train the network\n",
    "from sklearn.neural_network import MLPClassifier\n",
    "\n",
    "mlp = MLPClassifier(activation='logistic', solver='sgd',\n",
    "                         tol=0,learning_rate_init=.08, max_iter=200)\n",
    "\n",
    "# fit network here\n",
    "mlp.fit(X_train,y_train)\n",
    "\n",
    "# predict categories of training data here\n",
    "predictions_mlp = mlp.predict(X_train)\n",
    "\n",
    "\n",
    "MSE_mlp = mean_squared_error(predictions_mlp , y_train)\n",
    "print(MSE_mlp)\n"
   ]
  },
  {
   "cell_type": "markdown",
   "metadata": {
    "deletable": false,
    "editable": false,
    "nbgrader": {
     "checksum": "ecb9c8332bb441baaf6491e58fd0b256",
     "grade": false,
     "grade_id": "cell-e9a2c1b4d9b8f2f4",
     "locked": true,
     "schema_version": 1,
     "solution": false
    }
   },
   "source": [
    "<div class=\"alert alert-info\" role=\"alert\">\n",
    "<h1>Exercise 3 b)</h1>\n",
    "<p>\n",
    "Did the model learn the correct classification with the set parameters? Discuss (2-3 sentences). \n",
    "(2 points)\n",
    "</p>\n",
    "</div>   "
   ]
  },
  {
   "cell_type": "markdown",
   "metadata": {
    "deletable": false,
    "nbgrader": {
     "checksum": "a563585c11856979075f4321164c1637",
     "grade": true,
     "grade_id": "cell-236ceec3d4a56cf7",
     "locked": false,
     "points": 2,
     "schema_version": 1,
     "solution": true
    }
   },
   "source": [
    "Yes,as the MSE was also zero.\n",
    "The mlp and perceptron have the similar basic mechanism and the mlp is even stronger at processing non-linear division so it probably can solve the problem."
   ]
  },
  {
   "cell_type": "markdown",
   "metadata": {
    "deletable": false,
    "editable": false,
    "nbgrader": {
     "checksum": "c74b67aba5ae5e5fff75aa8acfe35202",
     "grade": false,
     "grade_id": "cell-12f3ce24fff30914",
     "locked": true,
     "schema_version": 1,
     "solution": false
    }
   },
   "source": [
    "<div class=\"alert alert-info\" role=\"alert\">\n",
    "<h1>Exercise 3 c)</h1>\n",
    "<p>\n",
    "Now, recreate and re-fit the model ten times to the training data (`using mlp.fit` and `mlp.predict`), and compare the performances. To do this, store the MSE of each run in an array (2 points).\n",
    "</p>\n",
    "</div>   \n",
    "- In each iteration you need to create a MLPClassifier and assign it to the `mlp` variable, exactly as above.\n",
    "- Then fit and predict, exactly as above.\n",
    "- Finally calculate the MSE and append it to the list `MSE_runs`.\n"
   ]
  },
  {
   "cell_type": "code",
   "execution_count": 21,
   "metadata": {
    "deletable": false,
    "nbgrader": {
     "checksum": "97f6d7e9a43c49a2a00d3f85a278213e",
     "grade": true,
     "grade_id": "cell-c8d37f0830456bd8",
     "locked": false,
     "points": 2,
     "schema_version": 1,
     "solution": true
    }
   },
   "outputs": [
    {
     "name": "stdout",
     "output_type": "stream",
     "text": [
      "[0.0, 0.15, 0.0, 0.0, 0.1, 0.5, 0.0, 0.2, 0.0, 0.0]\n"
     ]
    }
   ],
   "source": [
    "MSE_runs = []  # create a list to store each result\n",
    "\n",
    "for i in range(10):  # iterate 10 times\n",
    "    mlp =  MLPClassifier(activation='logistic', solver='sgd',\n",
    "                         tol=0,learning_rate_init=.08, max_iter=200)           \n",
    "    mlp.fit(X_train, y_train)\n",
    "    predictions_mlp =  mlp.predict(X_train)\n",
    "    \n",
    "    MSE = mean_squared_error(predictions_mlp , y_train)\n",
    "    MSE_runs.append(MSE)\n",
    "    # this stores the result of one run to the MSE_runs array \n",
    "print(MSE_runs)\n",
    "    "
   ]
  },
  {
   "cell_type": "markdown",
   "metadata": {
    "deletable": false,
    "editable": false,
    "nbgrader": {
     "checksum": "3b63e49d013b8d3bb1f9fad7e915f737",
     "grade": false,
     "grade_id": "cell-9029f1e1067c38ab",
     "locked": true,
     "schema_version": 1,
     "solution": false
    }
   },
   "source": [
    "<div class=\"alert alert-info\" role=\"alert\">\n",
    "<h1>Exercise 3 d)</h1>\n",
    "<p>\n",
    "Make a bar plot of all 10 MSEs (3 points).\n",
    "</p>\n",
    "</div>\n",
    "\n",
    "Note that `plt.bar` needs two arrays: one for the indices, and one for the values. For example, to plot `[1,2,3,5,8]`:\n",
    "\n",
    "    plt.bar(np.arange(5), [1,2,3,5,8]) \n",
    "\n",
    "Remember to add title and x- and y-labels.\n"
   ]
  },
  {
   "cell_type": "code",
   "execution_count": 22,
   "metadata": {
    "deletable": false,
    "nbgrader": {
     "checksum": "23f6c5a7640e3590a470e4bed55949c8",
     "grade": true,
     "grade_id": "cell-5acbba25c3f7abfe",
     "locked": false,
     "points": 3,
     "schema_version": 1,
     "solution": true
    }
   },
   "outputs": [
    {
     "data": {
      "text/plain": [
       "Text(0.5,1,'MSEs in ten runs')"
      ]
     },
     "execution_count": 22,
     "metadata": {},
     "output_type": "execute_result"
    },
    {
     "data": {
      "image/png": "[encoded data removed]",
      "text/plain": [
       "<Figure size 432x288 with 1 Axes>"
      ]
     },
     "metadata": {},
     "output_type": "display_data"
    }
   ],
   "source": [
    "plt.bar(np.arange(10)+1,MSE_runs)\n",
    "plt.xlabel(\"times\")\n",
    "plt.ylabel(\"MSE\")\n",
    "plt.title(\"MSEs in ten runs\")"
   ]
  },
  {
   "cell_type": "markdown",
   "metadata": {
    "deletable": false,
    "editable": false,
    "nbgrader": {
     "checksum": "7daa4d2d2e5face8d4ac6a8aa75d7853",
     "grade": false,
     "grade_id": "cell-0be491b3425ae468",
     "locked": true,
     "schema_version": 1,
     "solution": false
    }
   },
   "source": [
    "<div class=\"alert alert-info\" role=\"alert\">\n",
    "<h1>Exercise 3 e)</h1>\n",
    "<p>\n",
    "Briefly discuss your results. Would you observe the same results with the perceptron?\n",
    "(3 points)\n",
    "</p>\n",
    "</div>"
   ]
  },
  {
   "cell_type": "markdown",
   "metadata": {
    "deletable": false,
    "nbgrader": {
     "checksum": "9f83c138b1111b172f365523ed3040ae",
     "grade": true,
     "grade_id": "cell-d9958daf5c7f0892",
     "locked": false,
     "points": 3,
     "schema_version": 1,
     "solution": true
    }
   },
   "source": [
    "The mlp's performance is highly unstable.There were only about half of the times the errors were zero and the errors varied a lot.This is probably because the starting weights were random and the way it fit was not that decisive and straightforward while the problem was clear.\n",
    "The same results are not expected for the perceptron.We will probably see the perceptron do the job perfectly every time."
   ]
  },
  {
   "cell_type": "markdown",
   "metadata": {
    "deletable": false,
    "editable": false,
    "nbgrader": {
     "checksum": "9dba3c4942757310af285579e2863314",
     "grade": false,
     "grade_id": "cell-420a22a71b008940",
     "locked": true,
     "schema_version": 1,
     "solution": false
    }
   },
   "source": [
    "# Generalizing  to new data\n",
    "\n",
    "Let us now see how well the models can generalize to unseen animals."
   ]
  },
  {
   "cell_type": "code",
   "execution_count": 12,
   "metadata": {
    "deletable": false,
    "editable": false,
    "nbgrader": {
     "checksum": "57c99d20ea2691a350eb722599651f7e",
     "grade": false,
     "grade_id": "cell-7727889237a6ec03",
     "locked": true,
     "schema_version": 1,
     "solution": false
    }
   },
   "outputs": [],
   "source": [
    "#import test data here\n",
    "mammals_test = np.genfromtxt(open('./data/mammals_test.txt', \"rb\"), delimiter=\",\").T\n",
    "mammals_tok_test = np.genfromtxt(open('./data/mammals_tok_test.txt', \"rb\"),dtype='str', delimiter=\",\")\n",
    "\n",
    "birds_test = np.genfromtxt(open('./data/birds_test.txt', \"rb\"), delimiter=\",\").T\n",
    "birds_tok_test = np.genfromtxt(open('./data/birds_tok_test.txt', \"rb\"),dtype='str', delimiter=\",\")"
   ]
  },
  {
   "cell_type": "markdown",
   "metadata": {
    "deletable": false,
    "editable": false,
    "nbgrader": {
     "checksum": "121038f5f6432a5530d4f9f97ccf8bfe",
     "grade": false,
     "grade_id": "cell-ea26305fba81ec91",
     "locked": true,
     "schema_version": 1,
     "solution": false
    }
   },
   "source": [
    "<div class=\"alert alert-info\" role=\"alert\">\n",
    "<h1>Exercise 4 a)</h1>\n",
    "<p>\n",
    "  \n",
    "Prepare the test data in the same way as we did for the training data. As before, you will need a matrix with all test examples (the input), and a target vector. Make sure that your use of zeros and ones matches mammals and birds in the same way that it did during the training phase! (2 points)\n",
    "</p>\n",
    "</div>"
   ]
  },
  {
   "cell_type": "code",
   "execution_count": 13,
   "metadata": {
    "deletable": false,
    "nbgrader": {
     "checksum": "a05a0f6ad75528ff5d1f74775fa5c22f",
     "grade": false,
     "grade_id": "cell-fa7d63d7a6f6e11f",
     "locked": false,
     "schema_version": 1,
     "solution": true
    }
   },
   "outputs": [],
   "source": [
    "X_test = np.concatenate((mammals_test,birds_test))\n",
    "y_test = np.concatenate((np.zeros(len(mammals_test)),np.ones(len(birds_test))))\n",
    "tokens_test = np.concatenate((mammals_tok_test,birds_tok_test))"
   ]
  },
  {
   "cell_type": "code",
   "execution_count": 14,
   "metadata": {
    "deletable": false,
    "editable": false,
    "nbgrader": {
     "checksum": "b2be2ce4a1da1fb1df8918e61264f2cb",
     "grade": true,
     "grade_id": "cell-fe6e791a5e6b3200",
     "locked": true,
     "points": 2,
     "schema_version": 1,
     "solution": false
    }
   },
   "outputs": [],
   "source": [
    "'''check shapes for test data '''\n",
    "assert(X_test.shape == (30,16))"
   ]
  },
  {
   "cell_type": "markdown",
   "metadata": {
    "deletable": false,
    "editable": false,
    "nbgrader": {
     "checksum": "e9ec8a6970388e46195bad85a0542303",
     "grade": false,
     "grade_id": "cell-adb92fbff8cae3eb",
     "locked": true,
     "schema_version": 1,
     "solution": false
    }
   },
   "source": [
    "<div class=\"alert alert-info\" role=\"alert\">\n",
    "<h1>Exercise 4 b)</h1>\n",
    "<p>\n",
    "Now test the perceptron we trained before **without re-training** it on the data (i.e. using `net.predict(X_test)`). \n",
    "    \n",
    "This means that the network is now predicting the category of animals that it has not seen before.\n",
    "(2 points)\n",
    "</p>\n",
    "</div>\n",
    "\n",
    "- Store the predictions in `perceptron_test_predictions`.\n",
    "- Store the MSE in `test_MSE_perceptron`."
   ]
  },
  {
   "cell_type": "code",
   "execution_count": 15,
   "metadata": {
    "deletable": false,
    "nbgrader": {
     "checksum": "74b66c93db791f4e76259f39616fcacc",
     "grade": true,
     "grade_id": "cell-395edcb5cbc722a1",
     "locked": false,
     "points": 2,
     "schema_version": 1,
     "solution": true
    }
   },
   "outputs": [
    {
     "name": "stdout",
     "output_type": "stream",
     "text": [
      "0.1\n"
     ]
    }
   ],
   "source": [
    "perceptron_test_predictions = perceptron.predict(X_test)\n",
    "test_MSE_perceptron  =  mean_squared_error(perceptron_test_predictions, y_test)\n",
    "print (test_MSE_perceptron) "
   ]
  },
  {
   "cell_type": "markdown",
   "metadata": {
    "deletable": false,
    "editable": false,
    "nbgrader": {
     "checksum": "e83157ed84a888cd6dea0abbcaf55bb4",
     "grade": false,
     "grade_id": "cell-81baf86a5d81ca9f",
     "locked": true,
     "schema_version": 1,
     "solution": false
    }
   },
   "source": [
    "<div class=\"alert alert-info\" role=\"alert\">\n",
    "<h1>Exercise 4 c)</h1>\n",
    "<p>\n",
    "Discuss your results (1-2 sentences). (2 points)\n",
    "</p>\n",
    "</div>"
   ]
  },
  {
   "cell_type": "markdown",
   "metadata": {
    "deletable": false,
    "nbgrader": {
     "checksum": "f1d09193050d0bf823f2300d200df5e1",
     "grade": true,
     "grade_id": "cell-58ef236eda299a07",
     "locked": false,
     "points": 2,
     "schema_version": 1,
     "solution": true
    }
   },
   "source": [
    "The perceptron made a good prediction.The MSE was only 0.1.This is because it could focus more and noticed on the general pattern and the relationship between inputs,outputs."
   ]
  },
  {
   "cell_type": "markdown",
   "metadata": {
    "deletable": false,
    "editable": false,
    "nbgrader": {
     "checksum": "dfb3898766d5ff4dbfbca0c72cbb2192",
     "grade": false,
     "grade_id": "cell-a82e051661bede3f",
     "locked": true,
     "schema_version": 1,
     "solution": false
    }
   },
   "source": [
    "## Inspecting model predictions.\n",
    "Which animals did the neural network not classify correctly? \n",
    "<div class=\"alert alert-info\" role=\"alert\">\n",
    "<h1>Exercise 4 d)</h1>\n",
    "<p>\n",
    "Complete the function below so that it prints the misclassified animals and the weight attributed to each feature. ( 2 points)\n",
    "</p>\n",
    "</div>"
   ]
  },
  {
   "cell_type": "code",
   "execution_count": 16,
   "metadata": {
    "deletable": false,
    "nbgrader": {
     "checksum": "27a96b6adb7f0fdac7989f826f0db7e4",
     "grade": true,
     "grade_id": "cell-e0305e3c15c1a6d8",
     "locked": false,
     "points": 2,
     "schema_version": 1,
     "solution": true
    }
   },
   "outputs": [
    {
     "name": "stdout",
     "output_type": "stream",
     "text": [
      "dolphin\n",
      "[0.10344828 0.         0.         0.         0.         0.\n",
      " 0.         0.         0.         0.         0.         0.\n",
      " 0.         0.         0.         0.        ]\n",
      "platypus\n",
      "[0.         0.         0.         0.         0.16666667 0.\n",
      " 0.         0.         0.         0.         0.         0.\n",
      " 0.         0.         0.         0.        ]\n",
      "bat\n",
      "[0.         0.         0.22352941 0.         0.         0.\n",
      " 0.         0.12941176 0.         0.         0.         0.30588235\n",
      " 0.         0.         0.         0.07058824]\n",
      "['beh_-_eats' 'beh_-_eats_grass' 'beh_-_flies' 'has_4_legs' 'has_a_beak'\n",
      " 'has_a_tail' 'has_feathers' 'has_fur' 'has_hooves' 'has_horns' 'has_legs'\n",
      " 'has_wings' 'is_brown' 'is_fast' 'is_large' 'is_small']\n",
      "[[ 0.02886248 -0.11827957  0.24719101 -0.27461641  0.29714655 -0.06741573\n",
      "   0.57451212 -0.06741573 -0.07865169 -0.55       -0.2853691   0.3759046\n",
      "  -0.07865169 -0.14606742 -0.16052632  0.05035971]]\n"
     ]
    }
   ],
   "source": [
    "for index, true_label in enumerate(y_test):\n",
    "    # if prediction does not match the true category\n",
    "    if perceptron_test_predictions[index]!=true_label: \n",
    "        # print the name of the animal corresponding to the index\n",
    "        print(tokens_test[index]) \n",
    "        # print the feature weights of the animal\n",
    "        print (X_test[index])     \n",
    "        # YOUR CODE HERE\n",
    "print(feats)\n",
    "print(perceptron.coef_)\n",
    "      \n",
    "        "
   ]
  },
  {
   "cell_type": "markdown",
   "metadata": {
    "deletable": false,
    "editable": false,
    "nbgrader": {
     "checksum": "bae1faf1ea7bad411bb28b91fe67fe63",
     "grade": false,
     "grade_id": "cell-320ce8e9ced1c6d9",
     "locked": true,
     "schema_version": 1,
     "solution": false
    }
   },
   "source": [
    "<div class=\"alert alert-info\" role=\"alert\">\n",
    "<h1>Exercise 4 e)</h1>\n",
    "<p>\n",
    "Can you find an explanation for the erroneous classifications?   \n",
    "Discuss the animals that the model failed to classify correctly using the learned weights of the model and the features of the misclassified animals.\n",
    "(5 points)\n",
    "</p>\n",
    "</div>\n",
    "<ul> \n",
    "    <li>Looking at the weights that the network learned in conjunction with the McRae features (corresponding to the `feats` file) the weights operate on might help you answer the question. </li>\n",
    "    <li>To get the weights of the perceptron use `perceptron.coef_`.</li>\n",
    "    <li>Clearly relate your answers to the classification results!</li>\n",
    "    </ul>"
   ]
  },
  {
   "cell_type": "markdown",
   "metadata": {
    "deletable": false,
    "nbgrader": {
     "checksum": "52f6e4f2bbc124ba52b0f0f44e1c8502",
     "grade": true,
     "grade_id": "cell-e81606b2d4800874",
     "locked": false,
     "points": 5,
     "schema_version": 1,
     "solution": true
    }
   },
   "source": [
    "Dolphin is not similar to any animals we provided in the first training.In fact,all its feature are zero except the first one.Although the weight attributed to that was only 0.03,dolphin unfortunately failed to escape the wrong classification.\n",
    "\n",
    "Platypus exceptionally has beaks like all the birds but not other mammals do,which was considered by the perceptron as a typical birds' feature so that it attributed a high weight of 0.30 to it.\n",
    "\n",
    "Bat flies and has wings.Both of the features confused the perceptron as it considered them quite typical for birds and gave them high weights of 0.25 and 0.38 respectively.Although bat also have other features like has_fur or is small,either the number itself and the weight attributed to the feature is really small so they cannot change anything."
   ]
  },
  {
   "cell_type": "markdown",
   "metadata": {
    "deletable": false,
    "editable": false,
    "nbgrader": {
     "checksum": "39aa9060ac089d3fbe661e60b4dd70d7",
     "grade": false,
     "grade_id": "cell-b7a3f9dd9ba1cfb9",
     "locked": true,
     "schema_version": 1,
     "solution": false
    }
   },
   "source": [
    "<div class=\"alert alert-info\" role=\"alert\">\n",
    "<h1>Exercise 4 f)</h1>\n",
    "<p>\n",
    "Now, calculate the MLP (`mlp`) error on the test set. How does it compare to the single layer perceptron performance? Print out the misclassified animals (1 + 2 points).\n",
    "</p>\n",
    "</div>\n",
    "- Calculate the predictions of the MLP and store them in `mlp_test_predictions`.\n",
    "- Calculate the MSE on the test set and store it in `test_MSE_mlp`.\n",
    "- Print out the misclassified animals\n"
   ]
  },
  {
   "cell_type": "code",
   "execution_count": 17,
   "metadata": {
    "deletable": false,
    "nbgrader": {
     "checksum": "6c39cbe468fd274fa2ae9db833a32c98",
     "grade": true,
     "grade_id": "cell-76cf16d43d201a4b",
     "locked": false,
     "points": 1,
     "schema_version": 1,
     "solution": true
    }
   },
   "outputs": [
    {
     "name": "stdout",
     "output_type": "stream",
     "text": [
      "0.7666666666666667\n"
     ]
    }
   ],
   "source": [
    "mlp_test_predictions = mlp.predict(X_test)\n",
    "test_MSE_mlp =  mean_squared_error(mlp_test_predictions, y_test)\n",
    "print(test_MSE_mlp)"
   ]
  },
  {
   "cell_type": "code",
   "execution_count": 18,
   "metadata": {
    "deletable": false,
    "nbgrader": {
     "checksum": "f22931b05a6ec824fe9115cc84efa531",
     "grade": true,
     "grade_id": "cell-fcee2be16c34ef3d",
     "locked": false,
     "points": 2,
     "schema_version": 1,
     "solution": true
    }
   },
   "outputs": [
    {
     "name": "stdout",
     "output_type": "stream",
     "text": [
      "gorilla\n",
      "[0.     0.     0.     0.     0.     0.     0.     0.     0.     0.\n",
      " 0.     0.     0.     0.     0.2875 0.    ]\n",
      "beaver\n",
      "[0.         0.         0.         0.         0.         0.27586207\n",
      " 0.         0.         0.         0.         0.         0.\n",
      " 0.2183908  0.         0.         0.        ]\n",
      "chimp\n",
      "[0.16071429 0.         0.         0.         0.         0.\n",
      " 0.         0.16071429 0.         0.         0.         0.\n",
      " 0.08928571 0.         0.         0.        ]\n",
      "bear\n",
      "[0.        0.        0.        0.0390625 0.        0.        0.\n",
      " 0.15625   0.        0.        0.        0.        0.1015625 0.\n",
      " 0.1796875 0.       ]\n",
      "fox\n",
      "[0.     0.     0.     0.125  0.     0.1    0.     0.175  0.     0.\n",
      " 0.125  0.     0.     0.1375 0.     0.0875]\n",
      "skunk\n",
      "[0.         0.         0.         0.10526316 0.         0.09473684\n",
      " 0.         0.09473684 0.         0.         0.11578947 0.\n",
      " 0.         0.         0.         0.06315789]\n",
      "raccoon\n",
      "[0.     0.     0.     0.     0.     0.15   0.     0.     0.     0.\n",
      " 0.     0.     0.     0.     0.     0.0875]\n",
      "whale\n",
      "[0.21276596 0.         0.         0.         0.         0.\n",
      " 0.         0.         0.         0.         0.         0.\n",
      " 0.         0.         0.57446809 0.        ]\n",
      "walrus\n",
      "[0.   0.   0.   0.   0.   0.   0.   0.   0.   0.   0.   0.   0.   0.\n",
      " 0.25 0.  ]\n",
      "seal\n",
      "[0.         0.         0.         0.         0.         0.\n",
      " 0.         0.         0.         0.         0.         0.\n",
      " 0.         0.         0.11627907 0.        ]\n",
      "dolphin\n",
      "[0.10344828 0.         0.         0.         0.         0.\n",
      " 0.         0.         0.         0.         0.         0.\n",
      " 0.         0.         0.         0.        ]\n",
      "otter\n",
      "[0.08196721 0.         0.         0.         0.         0.08196721\n",
      " 0.         0.26229508 0.         0.         0.         0.\n",
      " 0.16393443 0.         0.         0.        ]\n",
      "platypus\n",
      "[0.         0.         0.         0.         0.16666667 0.\n",
      " 0.         0.         0.         0.         0.         0.\n",
      " 0.         0.         0.         0.        ]\n",
      "mole\n",
      "[0.         0.         0.         0.10666667 0.         0.\n",
      " 0.         0.         0.         0.         0.         0.\n",
      " 0.16       0.         0.         0.22666667]\n",
      "hawk\n",
      "[0.         0.         0.19469027 0.         0.15044248 0.\n",
      " 0.14159292 0.         0.         0.         0.         0.15929204\n",
      " 0.         0.         0.13274336 0.        ]\n",
      "goose\n",
      "[0.         0.         0.19354839 0.         0.09677419 0.\n",
      " 0.23655914 0.         0.         0.         0.         0.05376344\n",
      " 0.         0.         0.07526882 0.        ]\n",
      "owl\n",
      "[0.         0.         0.19230769 0.         0.08974359 0.\n",
      " 0.16666667 0.         0.         0.         0.         0.15384615\n",
      " 0.08974359 0.         0.         0.        ]\n",
      "buzzard\n",
      "[0.15189873 0.         0.12658228 0.         0.10126582 0.\n",
      " 0.13924051 0.         0.         0.         0.         0.07594937\n",
      " 0.         0.         0.10126582 0.        ]\n",
      "raven\n",
      "[0.         0.         0.19230769 0.         0.16346154 0.\n",
      " 0.19230769 0.         0.         0.         0.         0.15384615\n",
      " 0.         0.         0.04807692 0.        ]\n",
      "falcon\n",
      "[0.         0.         0.24271845 0.         0.12621359 0.\n",
      " 0.11650485 0.         0.         0.         0.         0.19417476\n",
      " 0.         0.         0.08737864 0.        ]\n",
      "eagle\n",
      "[0.07865169 0.         0.17977528 0.         0.13483146 0.\n",
      " 0.14606742 0.         0.         0.         0.         0.15730337\n",
      " 0.         0.         0.11235955 0.        ]\n",
      "seagull\n",
      "[0.04065041 0.         0.17886179 0.         0.11382114 0.\n",
      " 0.07317073 0.         0.         0.         0.         0.09756098\n",
      " 0.         0.         0.         0.        ]\n",
      "pelican\n",
      "[0.         0.         0.14503817 0.         0.14503817 0.\n",
      " 0.09160305 0.         0.         0.         0.         0.07633588\n",
      " 0.         0.         0.10687023 0.        ]\n",
      "23\n"
     ]
    }
   ],
   "source": [
    "i=0\n",
    "for index, true_label in enumerate(y_test):\n",
    "    if mlp_test_predictions[index]!=true_label: # if prediction does not match the true category\n",
    "        # here, print the name of the animal corresponding to the index\n",
    "        print(tokens_test[index]) \n",
    "        i=i+1\n",
    "        # below, print the feature weights of the animal corresponding to the index\n",
    "        print (X_test[index])  \n",
    "        # YOUR CODE HERE\n",
    "        # YOUR CODE HERE\n",
    "print(i)     "
   ]
  },
  {
   "cell_type": "markdown",
   "metadata": {
    "deletable": false,
    "nbgrader": {
     "checksum": "ac7fa9f715368938151663f6895be6bb",
     "grade": true,
     "grade_id": "cell-c6637d0d87522f74",
     "locked": false,
     "points": 5,
     "schema_version": 1,
     "solution": true
    }
   },
   "source": [
    "MLP failed to recognize most of the animals."
   ]
  },
  {
   "cell_type": "markdown",
   "metadata": {
    "deletable": false,
    "editable": false,
    "nbgrader": {
     "checksum": "7199aa6424236c66c58de1a9481f4635",
     "grade": false,
     "grade_id": "cell-c1dcfc302b716e70",
     "locked": true,
     "schema_version": 1,
     "solution": false
    }
   },
   "source": [
    "# Testing different parameters\n",
    "\n",
    "<div class=\"alert alert-info\" role=\"alert\">\n",
    "<h1>Exercise 5)</h1>\n",
    "<p>\n",
    "In this last section you need to evaluate how different parameter settings affect the classification of the MLP model. What is the averaged performance of the model for particular parameter settings?\n",
    "    \n",
    "Discuss your overall results and the effect of each parameter on the performance of the model. What is the best result you get on the training and test set, respectively? What were the corresponding parameter settings? \n",
    "\n",
    "You might want to have a look at Chapter 6 in \"An Introduction to Neural Networks\" (Gurney, 1997) for information.\n",
    "(25 points)\n",
    "</p>\n",
    "</div>\n",
    "\n",
    "For all your experiments you will be required to:\n",
    "- Clearly document your parameter settings and results. Please don't just run several models and then summarize in text. You need to provide code for all your experiments.\n",
    "- Run 10 `fit` calls for each parametrization you try and report **averaged** model performance.\n",
    "- Clearly summarize your results and provide visual aids whenever possible. You should provide plots for MSE together with error bars (have a look at the `yerr` parameter for `plt.bar()`.\n",
    "\n",
    "\n",
    "\n",
    "**To make sure that your solutions get marked correctly please:**\n",
    "- Put all your code that runs the MLP for different parameters in the first cell.\n",
    "- Then put all the plotting to visualize your results in the next free cell.\n",
    "- Finally, discuss your results in the last cell.\n",
    "\n",
    "(25 points)\n",
    "\n",
    "\n",
    "## Hints:\n",
    "Some of the things you might want to try include:\n",
    "- Changing the learning rate: e.g. `1, 0.1,0.01,0.001`. \n",
    "- What is the effect of the number of hidden layers and units? \n",
    "- Iterations: change the max number of iterations. E.g. `20,100,500,1000, 5000`"
   ]
  },
  {
   "cell_type": "markdown",
   "metadata": {
    "deletable": false,
    "editable": false,
    "nbgrader": {
     "checksum": "75669be17541880022bf9f308e2e1c8b",
     "grade": false,
     "grade_id": "cell-9dea024ff5b62667",
     "locked": true,
     "schema_version": 1,
     "solution": false
    }
   },
   "source": [
    "Put all simulations in the cell below:"
   ]
  },
  {
   "cell_type": "code",
   "execution_count": 19,
   "metadata": {
    "deletable": false,
    "nbgrader": {
     "checksum": "e9184838ff19588a6b88fa15f80e42f0",
     "grade": true,
     "grade_id": "cell-833a0d8a12f0cc94",
     "locked": false,
     "points": 10,
     "schema_version": 1,
     "solution": true
    }
   },
   "outputs": [],
   "source": [
    "\"\"\"\n",
    "# different learning rates\n",
    "MSE_average1=[]\n",
    "deviation1=[]\n",
    "test_MSE1=[]\n",
    "for j in range(4):#learning rate:1 0.1 0.01  0.001 \n",
    "        MSE_runs = []  \n",
    "        for i in range(10):               # iterate 10 times\n",
    "            mlp =  MLPClassifier(activation='logistic', solver='sgd',\n",
    "                         tol=0,learning_rate_init=10**(-j), max_iter=200)           \n",
    "            mlp.fit(X_train, y_train)\n",
    "            predictions_mlp =  mlp.predict(X_train)\n",
    "            MSE = mean_squared_error(predictions_mlp , y_train)\n",
    "            MSE_runs.append(MSE)\n",
    "        test_MSE1.append(mean_squared_error(mlp.predict(X_test), y_test))    \n",
    "        deviation1.append(np.std(MSE_runs))\n",
    "        MSE_average1.append(np.mean(MSE_runs))\n",
    "\n",
    "MSE_average2=[]\n",
    "deviation2=[]\n",
    "test_MSE2=[]\n",
    "morerates=[0.01,0.025,0.05,0.075,0.1,0.25,0.5,0.75,0.1]\n",
    "moreratess=['0.01','0.025','0.05','0.075','0.1','0.25','0.5','0.75','0.1']\n",
    "for j in morerates:#learning rate:1 0.1 0.01  0.001 \n",
    "        MSE_runs = []  \n",
    "        for i in range(10):               # iterate 10 times\n",
    "            mlp =  MLPClassifier(activation='logistic', solver='sgd',\n",
    "                         tol=0,learning_rate_init=j, max_iter=200)           \n",
    "            mlp.fit(X_train, y_train)\n",
    "            predictions_mlp =  mlp.predict(X_train)\n",
    "            MSE = mean_squared_error(predictions_mlp , y_train)\n",
    "            MSE_runs.append(MSE)\n",
    "        test_MSE2.append(mean_squared_error(mlp.predict(X_test), y_test))    \n",
    "        deviation2.append(np.std(MSE_runs))\n",
    "        MSE_average2.append(np.mean(MSE_runs))\n",
    "\n",
    "\n",
    "# different max iterations\n",
    "MSE_average3=[]\n",
    "deviation3=[]\n",
    "test_MSE3=[]\n",
    "for j in [20,100,500,1000, 5000]:\n",
    "        MSE_runs = []  \n",
    "        for i in range(10):               # iterate 10 times\n",
    "            mlp =  MLPClassifier(activation='logistic', solver='sgd',\n",
    "                         tol=0,learning_rate_init=.1, max_iter=j)           \n",
    "            mlp.fit(X_train, y_train)\n",
    "            predictions_mlp =  mlp.predict(X_train)\n",
    "            MSE = mean_squared_error(predictions_mlp , y_train)\n",
    "            MSE_runs.append(MSE)\n",
    "        test_MSE3.append(mean_squared_error(mlp.predict(X_test), y_test))    \n",
    "        deviation3.append(np.std(MSE_runs))\n",
    "        MSE_average3.append(np.mean(MSE_runs))\n",
    "\n",
    "MSE_average4=[]\n",
    "deviation4=[]\n",
    "test_MSE4=[]\n",
    "for j in [20,40,60,80,100]:\n",
    "        MSE_runs = []  \n",
    "        for i in range(10):              \n",
    "            mlp =  MLPClassifier(activation='logistic', solver='sgd',\n",
    "                         tol=0,learning_rate_init=.1, max_iter=j)           \n",
    "            mlp.fit(X_train, y_train)\n",
    "            predictions_mlp =  mlp.predict(X_train)\n",
    "            MSE = mean_squared_error(predictions_mlp , y_train)\n",
    "            MSE_runs.append(MSE)\n",
    "        test_MSE4.append(mean_squared_error(mlp.predict(X_test), y_test))    \n",
    "        deviation4.append(np.std(MSE_runs))\n",
    "        MSE_average4.append(np.mean(MSE_runs))\n",
    "\n",
    "\n",
    "#different numbers of hidden units\n",
    "MSE_average5=[]\n",
    "deviation5=[]\n",
    "test_MSE5=[]\n",
    "for j in [10,20,50,100,200,500]:\n",
    "        MSE_runs = []  \n",
    "        for i in range(10):               # iterate 10 times\n",
    "            mlp =  MLPClassifier(activation='logistic', solver='sgd',\n",
    "                         tol=0,learning_rate_init=.1, max_iter=200,hidden_layer_sizes=(j,))           \n",
    "            mlp.fit(X_train, y_train)\n",
    "            predictions_mlp =  mlp.predict(X_train)\n",
    "            MSE = mean_squared_error(predictions_mlp , y_train)\n",
    "            MSE_runs.append(MSE)\n",
    "        test_MSE5.append(mean_squared_error(mlp.predict(X_test), y_test))    \n",
    "        deviation5.append(np.std(MSE_runs))\n",
    "        MSE_average5.append(np.mean(MSE_runs))\n",
    "\n",
    "MSE_average6=[]\n",
    "deviation6=[]\n",
    "test_MSE6=[]\n",
    "for j in [1,5,15,50,100,200,300,400,500]:\n",
    "        MSE_runs = []  \n",
    "        for i in range(10):               # iterate 10 times\n",
    "            mlp =  MLPClassifier(activation='logistic', solver='sgd',\n",
    "                         tol=0,learning_rate_init=.1, max_iter=200,hidden_layer_sizes=(j,))           \n",
    "            mlp.fit(X_train, y_train)\n",
    "            predictions_mlp =  mlp.predict(X_train)\n",
    "            MSE = mean_squared_error(predictions_mlp , y_train)\n",
    "            MSE_runs.append(MSE)\n",
    "        test_MSE6.append(mean_squared_error(mlp.predict(X_test), y_test))    \n",
    "        deviation6.append(np.std(MSE_runs))\n",
    "        MSE_average6.append(np.mean(MSE_runs))\n",
    "\n",
    "#different numbers of hidden layers\n",
    "MSE_average7=[]\n",
    "deviation7=[]\n",
    "test_MSE7=[]\n",
    " \n",
    "for i in range(10):      \n",
    "            MSE_runs = [] \n",
    "            mlp =  MLPClassifier(activation='logistic', solver='sgd',\n",
    "                         tol=0,learning_rate_init=.1, max_iter=200,hidden_layer_sizes=(100,))           \n",
    "            mlp.fit(X_train, y_train)\n",
    "            predictions_mlp =  mlp.predict(X_train)\n",
    "            MSE = mean_squared_error(predictions_mlp , y_train)\n",
    "            MSE_runs.append(MSE)\n",
    "test_MSE7.append(mean_squared_error(mlp.predict(X_test), y_test))    \n",
    "deviation7.append(np.std(MSE_runs))\n",
    "MSE_average7.append(np.mean(MSE_runs))\n",
    "\n",
    "for i in range(10):       \n",
    "            MSE_runs = [] # iterate 10 times\n",
    "            mlp =  MLPClassifier(activation='logistic', solver='sgd',\n",
    "                         tol=0,learning_rate_init=.1, max_iter=200,hidden_layer_sizes=(100,100,))           \n",
    "            mlp.fit(X_train, y_train)\n",
    "            predictions_mlp =  mlp.predict(X_train)\n",
    "            MSE = mean_squared_error(predictions_mlp , y_train)\n",
    "            MSE_runs.append(MSE)\n",
    "test_MSE7.append(mean_squared_error(mlp.predict(X_test), y_test))    \n",
    "deviation7.append(np.std(MSE_runs))\n",
    "MSE_average7.append(np.mean(MSE_runs))\n",
    "\n",
    "for i in range(10):    \n",
    "            MSE_runs = [] # iterate 10 times\n",
    "            mlp =  MLPClassifier(activation='logistic', solver='sgd',\n",
    "                         tol=0,learning_rate_init=.1, max_iter=200,hidden_layer_sizes=(100,100,100,))           \n",
    "            mlp.fit(X_train, y_train)\n",
    "            predictions_mlp =  mlp.predict(X_train)\n",
    "            MSE = mean_squared_error(predictions_mlp , y_train)\n",
    "            MSE_runs.append(MSE)\n",
    "test_MSE7.append(mean_squared_error(mlp.predict(X_test), y_test))    \n",
    "deviation7.append(np.std(MSE_runs))\n",
    "MSE_average7.append(np.mean(MSE_runs))\n",
    "\n",
    "\n",
    "#different activation functions\n",
    "MSE_average=[]\n",
    "deviation=[]\n",
    "test_MSE=[]\n",
    "for j in ['identity', 'logistic', 'tanh', 'relu']:\n",
    "        MSE_runs = []  \n",
    "        for i in range(10):               # iterate 10 times\n",
    "            mlp =  MLPClassifier(activation=j, solver='sgd',\n",
    "                         tol=0,learning_rate_init=.1, max_iter=200)           \n",
    "            mlp.fit(X_train, y_train)\n",
    "            predictions_mlp =  mlp.predict(X_train)\n",
    "            MSE = mean_squared_error(predictions_mlp , y_train)\n",
    "            MSE_runs.append(MSE)\n",
    "        test_MSE.append(mean_squared_error(mlp.predict(X_test), y_test))    \n",
    "        deviation.append(np.std(MSE_runs))\n",
    "        MSE_average.append(np.mean(MSE_runs))\n",
    "        \n"
   ]
  },
  {
   "cell_type": "markdown",
   "metadata": {
    "deletable": false,
    "editable": false,
    "nbgrader": {
     "checksum": "f7e96c2f2b7d44ec958867ec7d01ccd8",
     "grade": false,
     "grade_id": "cell-fc7a07b9a57ffbe5",
     "locked": true,
     "schema_version": 1,
     "solution": false
    }
   },
   "source": [
    "Generate all plots in the cell below:"
   ]
  },
  {
   "cell_type": "code",
   "execution_count": 20,
   "metadata": {
    "deletable": false,
    "nbgrader": {
     "checksum": "cdc9354ad6dbab7db0f3620ba614ee68",
     "grade": true,
     "grade_id": "cell-0b75a15b7bbe9ffe",
     "locked": false,
     "points": 8,
     "schema_version": 1,
     "solution": true
    }
   },
   "outputs": [
    {
     "data": {
      "text/plain": [
       "Text(0.5,1,'diffrent activation functions')"
      ]
     },
     "execution_count": 20,
     "metadata": {},
     "output_type": "execute_result"
    },
    {
     "data": {
      "image/png": "[encoded data removed]",
      "text/plain": [
       "<Figure size 2160x1440 with 8 Axes>"
      ]
     },
     "metadata": {},
     "output_type": "display_data"
    }
   ],
   "source": [
    "\"\"\"\n",
    "# YOUR CODE HERE\n",
    "plt.figure(figsize=(30,20))\n",
    "plt.subplot(421)\n",
    "p1=plt.bar(['1','0.1','0.01','0.001'],MSE_average1,yerr=deviation1,width=0.4)\n",
    "p2=plt.bar(['1','0.1','0.01','0.001'],test_MSE1,width=0.2)\n",
    "plt.title('diffrent learning rates part I',fontsize=20)\n",
    "\n",
    "plt.subplot(422)\n",
    "p1=plt.bar(moreratess,MSE_average2,yerr=deviation2,width=0.4,label='train error')\n",
    "p2=plt.bar(moreratess,test_MSE2,width=0.2,label='test error')\n",
    "plt.title('diffrent learning rates part II',fontsize=20)\n",
    "plt.legend( loc='upper right')\n",
    "\n",
    "plt.subplot(423)\n",
    "p1=plt.bar(['20','100','500','1000','5000'],MSE_average3,yerr=deviation3,width=0.4)\n",
    "p2=plt.bar(['20','100','500','1000','5000'],test_MSE3,width=0.2)\n",
    "plt.title('diffrent max_iterations part I',fontsize=20)\n",
    "\n",
    "plt.subplot(424)\n",
    "p1=plt.bar(['20','40','60','80','100'],MSE_average4,yerr=deviation4,width=0.4)\n",
    "p2=plt.bar(['20','40','60','80','100'],test_MSE4,width=0.2)\n",
    "plt.title('diffrent max_iterations part II',fontsize=20)\n",
    "\n",
    "plt.subplot(425)\n",
    "p1=plt.bar(['10','20','50','100','200','500'],MSE_average5,yerr=deviation5,width=0.4)\n",
    "p2=plt.bar(['10','20','50','100','200','500'],test_MSE5,width=0.2)\n",
    "plt.title('diffrent numbers of hidden units part I',fontsize=20)\n",
    "\n",
    "plt.subplot(426)\n",
    "p1=plt.bar(['1','5','15','50','100','200','300','400','500'],MSE_average6,yerr=deviation6,width=0.4)\n",
    "p2=plt.bar(['1','5','15','50','100','200','300','400','500'],test_MSE6,width=0.2)\n",
    "plt.title('diffrent numbers of hidden units part II',fontsize=20)\n",
    "\n",
    "plt.subplot(427)\n",
    "p1=plt.bar(['1','2','3'],MSE_average7,yerr=deviation7,width=0.4)\n",
    "p2=plt.bar(['1','2','3'],test_MSE7,width=0.2)\n",
    "plt.title('diffrent numbers of hidden layers',fontsize=20)\n",
    "\n",
    "plt.subplot(428)\n",
    "p1=plt.bar(['identity', 'logistic', 'tanh', 'relu'],MSE_average,yerr=deviation,width=0.4)\n",
    "p2=plt.bar(['identity', 'logistic', 'tanh', 'relu'],test_MSE,width=0.2)\n",
    "plt.title('diffrent activation functions',fontsize=20)\n",
    "\n",
    "\n",
    "     \n",
    "\n",
    "\n",
    "\n",
    "\"\"\""
   ]
  },
  {
   "cell_type": "markdown",
   "metadata": {
    "deletable": false,
    "editable": false,
    "nbgrader": {
     "checksum": "215a355976e65291155ffbed751856e1",
     "grade": false,
     "grade_id": "cell-cd92793c521ef166",
     "locked": true,
     "schema_version": 1,
     "solution": false
    }
   },
   "source": [
    "Discuss your results in the cell below:"
   ]
  },
  {
   "cell_type": "markdown",
   "metadata": {
    "deletable": false,
    "nbgrader": {
     "checksum": "47080e826bb053a6b1b4571b20c816ee",
     "grade": true,
     "grade_id": "cell-3d71dc10fb11f34b",
     "locked": false,
     "points": 7,
     "schema_version": 1,
     "solution": true
    }
   },
   "source": [
    "We controlled the mlp's parameters as activation='logistic', solver='sgd',tol=0,learning_rate_init=.1, max_iter=200,hidden_layer_sizes=(100,) and changed them respectively.\n",
    "\n",
    "1.For the learning rate,when it was around 0.1 the preformance here was the best where the training error equaled to 0 and test error was less than 0.1.If the learning rate is too small,the mlp is likely to be stuck in a local minimum.Also because the learning progress is small, the performance is very unstable(see the error bars in the first two plots),much depending on the random weights it is assigned in the beginning.While when the learning rate is too big(larger than 0.25 in this case),the test and the training error both keep at 0.5,which is the exact outcome to get if you assign each animal 1/0 randomly,indicating the learning is unsuccessful because you change weights too aggresively and the mlp fails to find the optimal point.\n",
    "\n",
    "2.For the max iterations,there were no big differences after the number reached 20.The training error soon disappered and the test error dropped to and remained around 0.07.One more interesting finding was when the number is approximately 60 the test error was a little bit lower.The outcome can be interpreted as after certain number of iterations,the solution has almost converged.A small number that is slightly bigger than the previous one(60 here) may help refine the deciding function.But more iterations only wastes time.\n",
    "\n",
    "3.For the number of hidden units when the mlp had one single hidden layer,the training performed perfectly (no errors at all)when it was between 100 and 300 while a marginaly broader range of units numbers could make sure the test error was below 0.1.However,if there were too many hidden units(over 300 in this case),the mlp was given so much freedom to fit the inputs that the freedom increased variations unrelated to the input-output relations and made the training overfitted and test process worse.Conversly,if the number was small,the data would be underfitted so no ideal way was found to avoid all the training errors and the error was in a wide variety due to the randomness.The testing error had a minimum betweer 1-15.\n",
    "\n",
    "4.For the number of hidden layers,the training error was always zero and the testing error weres all below 0.07 with a small difference.Since the problem we tried to solve here was not very complicated,and even quite linearly despite some special cases,more hidden layers were unnecessary.\n",
    "\n",
    "5.As from the last plot,we can tell that choices of different activation functions didn't make a difference here probably because the problem here was not complex enough.\n"
   ]
  }
 ],
 "metadata": {
  "kernelspec": {
   "display_name": "Python 3",
   "language": "python",
   "name": "python3"
  },
  "language_info": {
   "codemirror_mode": {
    "name": "ipython",
    "version": 3
   },
   "file_extension": ".py",
   "mimetype": "text/x-python",
   "name": "python",
   "nbconvert_exporter": "python",
   "pygments_lexer": "ipython3",
   "version": "3.7.3"
  }
 },
 "nbformat": 4,
 "nbformat_minor": 2
}
